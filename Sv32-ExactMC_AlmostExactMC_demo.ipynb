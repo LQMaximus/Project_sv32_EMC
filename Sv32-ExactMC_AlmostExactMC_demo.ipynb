{
 "cells": [
  {
   "cell_type": "markdown",
   "id": "07bfcf75",
   "metadata": {},
   "source": [
    "**Table of contents**<a id='toc0_'></a>    \n",
    "- [Title:](#toc1_1_1_)    \n",
    "    - [Authors:](#toc1_1_2_)    \n",
    "    - [Abstract:](#toc1_1_3_)    \n",
    "    - [References](#toc1_1_4_)    \n",
    "    - [Assumption](#toc1_1_5_)    \n",
    "    - [Mathematical basis](#toc1_1_6_)    \n",
    "    - [Numerical method](#toc1_1_7_)    \n",
    "        - [Step 1) Simulate $X_u|X_t$ using the noncentral $\\chi^2$ distribution](#toc1_1_7_1_1_)    \n",
    "        - [Step 2) $\\int_t^u \\frac{ds}{X_s}$ Given $X_u, X_t$](#toc1_1_7_1_2_)    \n",
    "        - [Step 3) Exact method: Simulate $V_T$ with CDF by Laplace transform](#toc1_1_7_1_3_)    \n",
    "        - [Step 3) Almost exact method: Simulate $V_T$ with assumed distribution](#toc1_1_7_1_4_)    \n",
    "        - [Finally get the option price](#toc1_1_7_1_5_)    \n",
    "  - [Case I: Eq. (4.2) in Baldeaux (2012)](#toc1_2_)    \n",
    "  - [Case II: Set 2 in Kouarfate et al. (2021)](#toc1_3_)    \n",
    "  - [Case III:in Kouarfate et al. (2021)](#toc1_4_)    \n",
    "  - [Case IV:](#toc1_5_)    \n",
    "  - [Pricing with Time Discreteization using Euler/Milstein scheme, Exact Stepping, Almost Exact Stepping](#toc1_6_)    \n",
    "  - [Pricing with Exact Simulation](#toc1_7_)    \n",
    "  - [Pricing with IG approximation (Almost Exact Simulation)](#toc1_8_)    \n",
    "- [Pricing with FFT method](#toc2_)    \n",
    "- [Pricing with approximation IV](#toc3_)    \n",
    "\n",
    "<!-- vscode-jupyter-toc-config\n",
    "\tnumbering=false\n",
    "\tanchor=true\n",
    "\tflat=false\n",
    "\tminLevel=1\n",
    "\tmaxLevel=6\n",
    "\t/vscode-jupyter-toc-config -->\n",
    "<!-- THIS CELL WILL BE REPLACED ON TOC UPDATE. DO NOT WRITE YOUR TEXT IN THIS CELL -->"
   ]
  },
  {
   "cell_type": "markdown",
   "id": "0af33204",
   "metadata": {},
   "source": []
  },
  {
   "cell_type": "markdown",
   "id": "4c93bfad",
   "metadata": {},
   "source": []
  },
  {
   "cell_type": "markdown",
   "id": "bbd3e9b1",
   "metadata": {},
   "source": [
    "### <a id='toc1_1_1_'></a>[Title:](#toc0_)\n",
    "__Exact simulation and Almost exact simulation of the 3/2 model__\n",
    "\n",
    "### <a id='toc1_1_2_'></a>[Authors:](#toc0_)\n",
    "* Jan Baldeaux\n",
    "* Choi J, Kwok YK\n",
    "* Medvedev, A., Scaillet, O.\n",
    "\n",
    "### <a id='toc1_1_3_'></a>[Abstract:](#toc0_)\n",
    "* Baldeaux J (2012) Exact simulation of the 3/2 model. Int J Theor Appl Finan 15:1250032. https://doi.org/10.1142/S021902491250032X\n",
    "\n",
    "This paper discusses the exact simulation of the stock price process underlying the 3/2 model. Using a result derived by Craddock and Lennox using Lie Symmetry Analysis, we adapt the Broadie-Kaya algorithm for the simulation of affine processes to the 3/2 model. We also discuss variance reduction techniques and find that conditional Monte Carlo techniques combined with quasi-Monte Carlo point sets result in significant variance reductions.\n",
    "\n",
    "* Choi J, Kwok YK (2024) Simulation schemes for the Heston model with Poisson conditioning. European Journal of Operational Research 314(1):363–376. https://doi.org/10.1016/j.ejor.2023.10.048\n",
    "\n",
    "Exact simulation schemes under the Heston stochastic volatility model (e.g., Broadie–Kaya and Glasserman–Kim) suffer from computationally expensive modified Bessel function evaluations. We propose a new exact simulation scheme without the modified Bessel function, based on the observation that the conditional integrated variance can be simplified when conditioned by the Poisson variate used for simulating the terminal variance. Our approach also enhances the low-bias and time discretization schemes, which are suitable for pricing derivatives with frequent monitoring. Extensive numerical tests reveal the good performance of the new simulation schemes in terms of accuracy, efficiency, and reliability when compared with existing methods.\n",
    "\n",
    "* Medvedev, A., & Scaillet, O. (2007). Approximation and calibration of short-term implied volatilities under jump-diffusion stochastic volatility. The Review of Financial Studies, 20(2), 427-459.https://doi.org/10.1093/rfs/hhl013\n",
    "\n",
    "We derive an asymptotic expansion formula for option implied volatility under a two factor jump-diffusion stochastic volatility model when time-to-maturity is small. We further propose a simple calibration procedure of an arbitrary parametric model to short-term near-the-money implied volatilities. An important advantage of our approximation is that it is free of the unobserved spot volatility. Therefore, the model can be calibrated on option data pooled across different calendar dates to extract information from the dynamics of the implied volatility smile. An example of calibration to a sample of S&P 500 option prices is provided. \n",
    "\n",
    "\n",
    "### <a id='toc1_1_4_'></a>[References](#toc0_)\n",
    "* Baldeaux J (2012) Exact simulation of the 3/2 model. Int J Theor Appl Finan 15:1250032.\n",
    "* Kouarfate IR, Kouritzin MA, MacKay A (2021) Explicit Solution Simulation Method for the 3/2 Model. In: Hernández‐Hernández D, Leonardi F, Mena RH, Pardo Millán JC (eds) Advances in Probability and Mathematical Statistics. Springer International Publishing, Cham, pp 123–145\n",
    "* M. Jeanblanc, M. Yor and M. Chesney, Mathematical Methods for Financial Markets (Springer Finance, Springer, 2009).\n",
    "* Choi J, Kwok YK (2024) Simulation schemes for the Heston model with Poisson conditioning. European Journal of Operational Research 314(1):363–376.\n",
    "* Medvedev, A., & Scaillet, O. (2007). Approximation and calibration of short-term implied volatilities under jump-diffusion stochastic volatility. The Review of Financial Studies, 20(2), 427-459."
   ]
  },
  {
   "cell_type": "markdown",
   "id": "895aa310",
   "metadata": {},
   "source": [
    "### <a id='toc1_1_5_'></a>[Assumption](#toc0_)\n",
    "\n",
    "According to Baldeaux(2013), The dynamics of the stock price under the 3/2 model under the risk-neutral measure are given by\n",
    "\n",
    "$$\n",
    " \\frac{dS_t}{S_t} = rdt + \\sqrt{V_t}\\rho dW_t^1 + \\sqrt{V_t}\\sqrt{1-\\rho^2}dW_t^2 \\tag{1}\n",
    "$$\n",
    "\n",
    "$$\n",
    " \\frac{dV_t}{V_t} = \\kappa (\\theta - V_t)dt + \\epsilon \\sqrt{V_t}dW_t^1\n",
    "$$\n",
    "\n",
    "which is equivalent to\n",
    "\n",
    "$$\n",
    " dV_t = \\kappa V_t (\\theta - V_t)dt + \\epsilon V_t^{3/2}dW_t^1 \\tag{2}\n",
    "$$\n",
    "\n",
    "where $W_t^1$ and $W_t^2$ are independent Brownian motions. Regarding the parameters, $r$ represents the constant interest rate, $\\rho$ the instantaneous correlation between the return on the stock and the variance process and $\\epsilon$ governs the volatility of volatility.The speed of mean reversion is given by $\\kappa V_t$ and $\\theta$ denotes the long-run mean of the variance process."
   ]
  },
  {
   "cell_type": "markdown",
   "id": "3b7d7bd1",
   "metadata": {},
   "source": [
    "### <a id='toc1_1_6_'></a>[Mathematical basis](#toc0_)\n",
    "\n",
    "Defining $X_t = \\frac{1}{V_t}$, we obtain\n",
    "\n",
    "$$\n",
    "dX_t = (\\kappa + \\epsilon^2 - \\kappa\\theta X_t)dt - \\epsilon \\sqrt{X_t}dW_t^1 \\tag{3}\n",
    "$$\n",
    "Hence, using the process $X_t$, we obtain the following dynamics for the stock price, where $u > t$\n",
    "\n",
    "$$\n",
    "S_u = S_t \\exp\\lbrace r(u-t) - 1/2 \\int_t^u(X_s)^{-1}ds + \\rho \\int_t^u({\\sqrt{X_s})^{-1}dW_s^1}\\rbrace \\exp \\lbrace \\sqrt{1-\\rho^2} \\int_t^u(\\sqrt{X_s})^{-1} dW_s^2\\rbrace \\tag{4}\n",
    "$$\n",
    "From Baldeaux(2013), study $\\log(X_t)$\n",
    "\n",
    "$$\n",
    "\\int_t^u({\\sqrt{X_s})^{-1}dW_s^1} = \\frac{1}{\\epsilon} (log(\\frac{X_t}{X_u}) + (k + \\frac{\\epsilon^2}{2})\\int_{t}^{u}\\frac{ds}{X_s}-k\\theta(u-t)) \\tag{5}\n",
    "$$\n",
    "\n",
    "Therefore, the only thing we need to know is the distribution of $X_t$ and $\\int_{t}^{u}\\frac{ds}{X_s}$ conditional on $X_t$"
   ]
  },
  {
   "cell_type": "markdown",
   "id": "ae2fdbcf",
   "metadata": {},
   "source": [
    "### <a id='toc1_1_7_'></a>[Numerical method](#toc0_)\n",
    "Using Broadie-Kaya algorithm, we specify the simulation as 3 steps\n",
    "\n",
    "##### <a id='toc1_1_7_1_1_'></a>[Step 1) Simulate $X_u|X_t$ using the noncentral $\\chi^2$ distribution](#toc0_)\n",
    "$X_u$ is distributed as a noncentral $ \\chi^2 $ distribution\n",
    "\n",
    "$$\n",
    "\\frac{X_u{\\rm exp}\\lbrace \\kappa \\theta (u-t) \\rbrace}{c(u-t)} \\sim \\chi^2(\\delta, \\alpha) \\tag{6}\n",
    "$$\n",
    "\n",
    "where\n",
    "$$\n",
    "\\delta = \\frac{4(\\kappa + \\epsilon^2)}{\\epsilon^2}, \\quad \\alpha = \\frac{X_t}{c(u-t)}, \\quad c(t) = \\frac{\\epsilon^2({\\rm exp}\\lbrace \\kappa\\theta u \\rbrace - 1)}{4\\kappa\\theta}\n",
    "$$\n",
    "\n",
    "##### <a id='toc1_1_7_1_2_'></a>[Step 2) $\\int_t^u \\frac{ds}{X_s}$ Given $X_u, X_t$](#toc0_)\n",
    "We first derive the characteristic function of $\\int_u^t \\frac{ds}{X_s}$, which is provided in Baldeaux(2013)\n",
    "\n",
    "$$\n",
    "E\\left({\\rm exp}\\left\\lbrace -a^* \\int_0^t \\frac{ds}{X_s} \\ \\bigg| \\ X_t \\right\\rbrace \\right) = \\frac{I_{\\sqrt{\\nu^2+8a/\\epsilon^2}}\\left(-\\frac{j\\sqrt{X_tX_u}}{{\\rm sinh}\\left(j\\Delta\\right)}\\right)}{I_{\\nu}\\left(-\\frac{j\\sqrt{X_tX_u}}{{\\rm sinh}\\left(j\\Delta\\right)}\\right)}\\tag{7}\n",
    "$$\n",
    "\n",
    "where $j=-\\frac{2\\kappa\\theta}{\\epsilon^2}$, $\\Delta=\\frac{u\\epsilon^2}{4}-\\frac{t\\epsilon^2}{4}$, $v=\\frac{n}{2}-1$.\n",
    "\n",
    "##### <a id='toc1_1_7_1_3_'></a>[Step 3) Exact method: Simulate $V_T$ with CDF by Laplace transform](#toc0_)\n",
    "Use Laplace transform to get the CDF of $\\int_t^u \\frac{ds}{X_s}$, then get the price."
   ]
  },
  {
   "cell_type": "markdown",
   "id": "0a3d49d1",
   "metadata": {},
   "source": [
    "##### <a id='toc1_1_7_1_4_'></a>[Step 3) Almost exact method: Simulate $V_T$ with assumed distribution](#toc0_)\n",
    "Then we use the characteristic function to generate moment $M1$, $M2$. For simplicity, we assume that $\\int_t^u \\frac{ds}{X_s}$ follows the Inverse-Gaussian distribution / Gamma distribution / Log-normal distribution, then we can simulate $\\int_t^u \\frac{ds}{X_s}$."
   ]
  },
  {
   "cell_type": "markdown",
   "id": "b3539edc",
   "metadata": {},
   "source": [
    "##### <a id='toc1_1_7_1_5_'></a>[Finally get the option price](#toc0_)\n",
    "$$\n",
    "log(S_u) \\sim N(log(S_t)+r(u-t)-\\frac{1}{2}\\int_t^u \\frac{ds}{X_s}+\\rho\\int_t^u({\\sqrt{X_s})^{-1}dW_s^1},  \\sigma^2(t,u))\\tag{8}\n",
    "$$\n",
    "where \n",
    "$$\n",
    "\\sigma^2(t, u) = (1-\\rho^2)\\int_t^u \\frac{ds}{X_s}\n",
    "$$\n",
    "The option price is $C_{BS}(K,S_u, \\sigma(t, u))$"
   ]
  },
  {
   "cell_type": "code",
   "execution_count": 218,
   "id": "8f1da2bd",
   "metadata": {},
   "outputs": [
    {
     "name": "stdout",
     "output_type": "stream",
     "text": [
      "The autoreload extension is already loaded. To reload it, use:\n",
      "  %reload_ext autoreload\n"
     ]
    }
   ],
   "source": [
    "%load_ext autoreload\n",
    "%autoreload 2"
   ]
  },
  {
   "cell_type": "code",
   "execution_count": 219,
   "id": "0ba15643",
   "metadata": {},
   "outputs": [],
   "source": [
    "import numpy as np\n",
    "import time\n",
    "import scipy.stats as spst\n",
    "import scipy.special as spsp\n",
    "import copy \n",
    "#import mp math as mp\n",
    "\n",
    "import sys\n",
    "sys.path.insert(sys.path.index(\"\")+1, \"C:/Users/27261/Desktop/3_Courses in PHBS/3_09_AppliedStochasticProcess/Project_sv32_EMC\")\n",
    "import pyfeng as pf\n",
    "import pyfeng.ex as pfex\n",
    "np.set_printoptions(precision=4)"
   ]
  },
  {
   "cell_type": "markdown",
   "id": "1cd4009f",
   "metadata": {},
   "source": [
    "Run only one below"
   ]
  },
  {
   "cell_type": "markdown",
   "id": "cc01c5e8",
   "metadata": {},
   "source": [
    "## <a id='toc1_2_'></a>[Case I: Eq. (4.2) in Baldeaux (2012)](#toc0_)"
   ]
  },
  {
   "cell_type": "code",
   "execution_count": 524,
   "id": "41698057",
   "metadata": {},
   "outputs": [],
   "source": [
    "mr, theta, vov, rho, sigma, intr = 2.0, 1.5, 0.2, -0.5, 1.0, 0.05\n",
    "strike, spot, texp = 1, 1, 1\n",
    "p_exact = 0.443059"
   ]
  },
  {
   "cell_type": "markdown",
   "id": "8df6737c",
   "metadata": {},
   "source": [
    "## <a id='toc1_3_'></a>[Case II: Set 2 in Kouarfate et al. (2021)](#toc0_)"
   ]
  },
  {
   "cell_type": "code",
   "execution_count": 593,
   "id": "90fe9f5a",
   "metadata": {},
   "outputs": [
    {
     "data": {
      "text/plain": [
       "array([27.6964, 26.2202, 24.8061])"
      ]
     },
     "execution_count": 593,
     "metadata": {},
     "output_type": "execute_result"
    }
   ],
   "source": [
    "sigma, mr, theta, vov, rho = 0.06, 22.84, 0.218, 8.56, -0.99\n",
    "intr = 0\n",
    "\n",
    "strike, spot, texp = np.array([95, 100, 105]), 100, 0.5\n",
    "p_exact = np.array([10.364, 7.386, 4.938])\n",
    "iv_exact = pf.Bsm(1).impvol(p_exact, strike, spot, texp)\n",
    "iv_exact * 100"
   ]
  },
  {
   "cell_type": "markdown",
   "id": "c6d3961d",
   "metadata": {},
   "source": [
    "## <a id='toc1_4_'></a>[Case III:in Kouarfate et al. (2021)](#toc0_)"
   ]
  },
  {
   "cell_type": "code",
   "execution_count": 614,
   "id": "fa3ac141",
   "metadata": {},
   "outputs": [
    {
     "data": {
      "text/plain": [
       "array([32.8172, 31.9686, 31.1591])"
      ]
     },
     "execution_count": 614,
     "metadata": {},
     "output_type": "execute_result"
    }
   ],
   "source": [
    "sigma, mr, theta, vov, rho = 0.06, 20.48, 0.218, 3.20, -0.99\n",
    "intr = 0\n",
    "\n",
    "strike, spot, texp = np.array([95, 100, 105]), 100, 0.5\n",
    "p_exact = np.array([11.724, 8.999, 6.710])\n",
    "iv_exact = pf.Bsm(1).impvol(p_exact, strike, spot, texp)\n",
    "iv_exact * 100"
   ]
  },
  {
   "cell_type": "markdown",
   "id": "899276a0",
   "metadata": {},
   "source": [
    "## <a id='toc1_5_'></a>[Case IV:](#toc0_)\n",
    "Near expiration and atm"
   ]
  },
  {
   "cell_type": "code",
   "execution_count": 654,
   "id": "ea43c704",
   "metadata": {},
   "outputs": [],
   "source": [
    "# assumption r: discount rate  0 \n",
    "\n",
    "vov = 0.3\n",
    "mr = 0.7\n",
    "spot = 49 # asset price\n",
    "texp= 0.1\n",
    "intr = 0\n",
    "theta = 0.6\n",
    "\n",
    "strike = np.array([47, 48, 49, 50, 51]) # strike price \n",
    "\n",
    "sigma = 1 # sigma\n",
    "rho= 0.5\n",
    "p_exact = np.array([7.04, 6.5, 6.121,  5.7006, 5.305])"
   ]
  },
  {
   "cell_type": "markdown",
   "id": "150800f5",
   "metadata": {},
   "source": [
    "## Case V:\n",
    "Near expiration only"
   ]
  },
  {
   "cell_type": "code",
   "execution_count": 736,
   "id": "3b926501",
   "metadata": {},
   "outputs": [],
   "source": [
    "vov = 0.3\n",
    "mr = 0.7\n",
    "spot = 50 # asset price\n",
    "texp= 0.001\n",
    "intr = 0\n",
    "theta = 0.6\n",
    "\n",
    "strike = np.array([10, 20, 40]) # strike price \n",
    "\n",
    "sigma = 1 # sigma\n",
    "rho= 0.5\n",
    "p_exact = np.array([40, 30, 10])"
   ]
  },
  {
   "cell_type": "markdown",
   "id": "5ad223a0",
   "metadata": {},
   "source": [
    "## Case VI:\n",
    "atm only"
   ]
  },
  {
   "cell_type": "code",
   "execution_count": 755,
   "id": "3a701917",
   "metadata": {},
   "outputs": [],
   "source": [
    "vov = 3.3\n",
    "mr = 0.7\n",
    "spot = 49 # asset price\n",
    "texp= 1\n",
    "intr = 0\n",
    "theta = 0.6\n",
    "\n",
    "strike = np.array([47, 48, 49, 50, 51]) # strike price \n",
    "\n",
    "sigma = 1 # sigma\n",
    "rho= 0.5\n",
    "p_exact = np.array([12.6802, 12.333, 11.999, 11.678, 11.37])"
   ]
  },
  {
   "cell_type": "markdown",
   "id": "e4c5b054",
   "metadata": {},
   "source": [
    "## <a id='toc1_6_'></a>[Pricing with Time Discretization using Euler/Milstein scheme, Exact Stepping, Almost Exact Stepping](#toc0_)"
   ]
  },
  {
   "cell_type": "code",
   "execution_count": 748,
   "id": "c8d990ad",
   "metadata": {},
   "outputs": [],
   "source": [
    "# Euler/Milstein scheme, here dt should be small enough (dt=1/500 for Case I, III, IV, V; dt=1/5000 for Case II;dt=1/50000 for Case VI)\n",
    "# If vov is high, dt should be large as 1/500, Case II is an example\n",
    "m = pfex.Sv32McTimeStep(sigma, vov, rho, mr, theta, intr)\n",
    "m.set_num_params(n_path=1.6e5, dt=1/50000, rn_seed=123456)\n",
    "m.scheme = 1  \n",
    "m.correct_fwd = False"
   ]
  },
  {
   "cell_type": "code",
   "execution_count": 749,
   "id": "5af53332",
   "metadata": {},
   "outputs": [
    {
     "name": "stdout",
     "output_type": "stream",
     "text": [
      "[12.6905 12.343  12.0092 11.6884 11.3802]\n",
      "CPU times: total: 14min 7s\n",
      "Wall time: 14min 16s\n"
     ]
    }
   ],
   "source": [
    "%%time\n",
    "bias = m.price(strike, spot, texp) - p_exact\n",
    "print(bias)"
   ]
  },
  {
   "cell_type": "code",
   "execution_count": 756,
   "id": "d409f2b1",
   "metadata": {},
   "outputs": [],
   "source": [
    "# Exact Stepping with 1 / NCX2\n",
    "m.set_num_params(n_path=1.6e5, dt=1/500, rn_seed=123456)\n",
    "m.scheme = 2 "
   ]
  },
  {
   "cell_type": "code",
   "execution_count": 757,
   "id": "aa2f5a46",
   "metadata": {},
   "outputs": [
    {
     "name": "stdout",
     "output_type": "stream",
     "text": [
      "[ 4.9865e-05 -2.0264e-04  2.0030e-05  3.2540e-04  1.4112e-04]\n",
      "CPU times: total: 9.11 s\n",
      "Wall time: 9.14 s\n"
     ]
    }
   ],
   "source": [
    "%%time\n",
    "bias = m.price(strike, spot, texp) - p_exact\n",
    "print(bias)"
   ]
  },
  {
   "cell_type": "code",
   "execution_count": 758,
   "id": "c67f3d39",
   "metadata": {},
   "outputs": [],
   "source": [
    "# Almost Exact Stepping with Poison-Gamma distribution\n",
    "m.set_num_params(n_path=1.6e5, dt=1/500, rn_seed=123456)\n",
    "m.scheme = 3"
   ]
  },
  {
   "cell_type": "code",
   "execution_count": 759,
   "id": "64014f48",
   "metadata": {},
   "outputs": [
    {
     "name": "stdout",
     "output_type": "stream",
     "text": [
      "[0.0722 0.0714 0.0711 0.071  0.0703]\n",
      "CPU times: total: 16.3 s\n",
      "Wall time: 16.5 s\n"
     ]
    }
   ],
   "source": [
    "%%time\n",
    "bias = m.price(strike, spot, texp) - p_exact\n",
    "print(bias)"
   ]
  },
  {
   "cell_type": "markdown",
   "id": "40bae325",
   "metadata": {},
   "source": [
    "## <a id='toc1_7_'></a>[Pricing with Exact Simulation](#toc0_)\n",
    "## Exact simulation **cannot** price the atm option or near expiration"
   ]
  },
  {
   "cell_type": "code",
   "execution_count": 760,
   "id": "bc9aa841",
   "metadata": {},
   "outputs": [],
   "source": [
    "m1 = pfex.Sv32McBaldeaux2012Exact(sigma, vov, rho, mr, theta, intr)\n",
    "m1.set_num_params(n_path=10000, rn_seed=123456, dt=None)\n",
    "m1.correct_fwd = False"
   ]
  },
  {
   "cell_type": "code",
   "execution_count": 761,
   "id": "fdf59582",
   "metadata": {},
   "outputs": [
    {
     "name": "stdout",
     "output_type": "stream",
     "text": [
      "[nan nan nan nan nan]\n",
      "CPU times: total: 3.23 s\n",
      "Wall time: 3.23 s\n"
     ]
    },
    {
     "name": "stderr",
     "output_type": "stream",
     "text": [
      "c:\\Users\\27261\\anaconda3\\Lib\\site-packages\\scipy\\optimize\\_zeros_py.py:482: RuntimeWarning: some failed to converge after 50 iterations\n",
      "  warnings.warn(msg, RuntimeWarning)\n",
      "d:\\GitHUb\\Project_sv32_EMC\\pyfeng\\sv32_mc2.py:148: RuntimeWarning: invalid value encountered in sqrt\n",
      "  sigma_cond = np.sqrt(\n"
     ]
    }
   ],
   "source": [
    "%%time\n",
    "bias = m1.price(strike, spot, texp) - p_exact\n",
    "print(bias)\n",
    "# cannot price the atm option or near expiration"
   ]
  },
  {
   "cell_type": "markdown",
   "id": "c05c066d",
   "metadata": {},
   "source": [
    "## <a id='toc1_8_'></a>[Pricing with IG approximation (Almost Exact Simulation)](#toc0_)\n",
    "## Almost exact simulation **cannot** price the atm option (Case VI as an example) and options far from expiration date (Case II and Case III as examples, though in Case III seems good **coincidently**, which is because vov is small in Case III.)"
   ]
  },
  {
   "cell_type": "code",
   "execution_count": 762,
   "id": "bdb7da42",
   "metadata": {},
   "outputs": [],
   "source": [
    "# Almost exact simulation cannot price the atm option  and options far from expiration date\n",
    "m2 = pfex.Sv32McChoiKwok2023Ig(sigma, vov, rho, mr, theta, intr)\n",
    "m2.set_num_params(n_path=100000, rn_seed=123456, dt=None)\n",
    "m2.correct_fwd = False"
   ]
  },
  {
   "cell_type": "code",
   "execution_count": 763,
   "id": "445c5476",
   "metadata": {},
   "outputs": [
    {
     "name": "stdout",
     "output_type": "stream",
     "text": [
      "[6.7542e+43 6.7542e+43 6.7542e+43 6.7542e+43 6.7542e+43]\n",
      "CPU times: total: 469 ms\n",
      "Wall time: 478 ms\n"
     ]
    }
   ],
   "source": [
    "%%time\n",
    "bias = m2.price(strike, spot, texp) - p_exact\n",
    "print(bias)"
   ]
  },
  {
   "cell_type": "markdown",
   "id": "cb064c73",
   "metadata": {},
   "source": [
    "# <a id='toc2_'></a>[Pricing with FFT method](#toc0_)\n",
    "## FFT method **cannot** price options near expiration"
   ]
  },
  {
   "cell_type": "code",
   "execution_count": 764,
   "id": "8e7dd906",
   "metadata": {},
   "outputs": [],
   "source": [
    "m3 = pf.sv_fft.Sv32Fft(sigma, vov, rho, mr, theta, intr)\n",
    "m3.correct_fwd = False"
   ]
  },
  {
   "cell_type": "code",
   "execution_count": 765,
   "id": "adee5ae4",
   "metadata": {},
   "outputs": [
    {
     "name": "stdout",
     "output_type": "stream",
     "text": [
      "[0.0754 0.0751 0.0753 0.0755 0.0752]\n",
      "CPU times: total: 109 ms\n",
      "Wall time: 111 ms\n"
     ]
    }
   ],
   "source": [
    "%%time\n",
    "bias = m3.price(strike, spot, texp) - p_exact\n",
    "print(bias)"
   ]
  },
  {
   "cell_type": "markdown",
   "id": "9530e1e2",
   "metadata": {},
   "source": [
    "# <a id='toc3_'></a>[Pricing with approximation IV](#toc0_)\n",
    "## Approximation IV **can only** price atm options near expiration "
   ]
  },
  {
   "cell_type": "markdown",
   "id": "e4b1582c",
   "metadata": {},
   "source": [
    "3/2 model\n",
    "$$ d S_t = S_t dt + dW_t $$\n",
    "$$d v_t=\\kappa v_t\\left(\\theta-v_t\\right) d t+v v_t^{3 / 2} d Z_t $$\n",
    "$$v_t = \\sigma_t^2 $$\n",
    "$$ d \\sigma_t=d \\sqrt{v_t}=\\frac{1}{2} \\frac{d v_t}{\\sqrt{v_t}}-\\frac{1}{8} \\frac{\\left(d v_t\\right)^2}{v_t \\sqrt{v_t}} $$\n",
    "$$ d \\sigma_t = (v\\sigma_t^2/2-v^2\\sigma_t^3/8)dZ_t -\\kappa(\\sigma_t^3-\\sigma_t\\theta)/2d_t  $$"
   ]
  },
  {
   "cell_type": "markdown",
   "id": "3c5cd0bd",
   "metadata": {},
   "source": [
    "model setting\n",
    "\n",
    "$$ dS_t = S_tdt + \\sigma_tS_tdW_t^{(1)} $$\n",
    "\n",
    "$$ d\\sigma_t = a(\\sigma_t)dt+b(\\sigma_t)[\\rho dW_1^{(1)}+\\sqrt{1-\\rho^2}dW_t^{(2)}] $$\n",
    "$$ a(\\sigma_t) = (v\\sigma_t^2/2-v^2\\sigma_t^3/8) $$\n",
    "$$ a'(\\sigma_t) = v\\sigma_t^2-v^2\\sigma_t^2*3/8 $$\n",
    "$$ b(\\sigma_t) = -\\kappa(\\sigma_t^3-\\sigma_t\\theta)/2 $$\n",
    "$$ b'(\\sigma_t)= -\\kappa(3 \\sigma_t^2-\\theta)/2 $$"
   ]
  },
  {
   "cell_type": "markdown",
   "id": "e2597487",
   "metadata": {},
   "source": [
    "$$\n",
    "\\begin{aligned}\n",
    "&I_1(\\theta_{IV} ; \\sigma)=-\\frac{\\rho b \\theta_{IV}}{2},\\\\\n",
    "&\\begin{aligned}\n",
    "I_2(\\theta_{IV} ; \\sigma)= & \\left(-\\frac{5}{12} \\frac{\\rho^2 b^2}{\\sigma}+\\frac{1}{6} \\frac{b^2}{\\sigma}+\\frac{1}{6} \\rho^2 b b^{\\prime}\\right) \\theta_{IV}^2 \\\\\n",
    "& +\\frac{a}{2}+\\frac{\\rho b \\sigma}{4}+\\frac{1}{24} \\frac{\\rho^2 b^2}{\\sigma}+\\frac{1}{12} \\frac{b^2}{\\sigma}-\\frac{1}{6} \\rho^2 b b^{\\prime}\n",
    "\\end{aligned}\n",
    "\\end{aligned}\n",
    "$$\n",
    "\n",
    "$$\n",
    "I(\\theta_{IV}, \\tau ; \\sigma)=\\sigma+I_1(\\theta_{IV} ; \\sigma) \\sqrt{\\tau}+I_2(\\theta_{IV} ; \\sigma) \\tau+O(\\tau \\sqrt{\\tau})\n",
    "$$"
   ]
  },
  {
   "cell_type": "code",
   "execution_count": 766,
   "id": "9c775577",
   "metadata": {},
   "outputs": [],
   "source": [
    "X_t = np.log(spot/strike) #option moneyness\n",
    "theta_IV= X_t/(sigma*np.sqrt(texp)) # moneyness degree\n",
    "a = vov*sigma**2/2+vov**2*sigma**3/8\n",
    "b= -mr*(sigma**3-sigma*theta)/2\n",
    "b_prime = -mr*(3*sigma**2-theta)/2"
   ]
  },
  {
   "cell_type": "code",
   "execution_count": 767,
   "id": "6e931b63",
   "metadata": {},
   "outputs": [],
   "source": [
    "I1 = - theta_IV*b*rho/2\n",
    "I2 =(-5/12*rho**2*b**2/sigma+1/6*b**2/sigma+1/6*rho**2*b*b_prime)*theta_IV**2+ a/2+rho*b*sigma/4+1/24*rho**2*b**2/sigma+1/12*b**2/sigma-1/6*rho**2*b*b_prime\n",
    "I = sigma + I1*np.sqrt(texp)+I2*texp"
   ]
  },
  {
   "cell_type": "code",
   "execution_count": 768,
   "id": "bfdf41f6",
   "metadata": {},
   "outputs": [
    {
     "name": "stdout",
     "output_type": "stream",
     "text": [
      "[26.0619 26.2933 26.513  26.7213 26.9181]\n"
     ]
    }
   ],
   "source": [
    "m4 = pf.Bsm(sigma=I, intr=0.0, divr=0.0)\n",
    "price = m4.price(strike=strike, spot=spot, texp=texp)\n",
    "bias = price - p_exact\n",
    "print(bias)"
   ]
  },
  {
   "cell_type": "code",
   "execution_count": null,
   "id": "9fd54492",
   "metadata": {},
   "outputs": [],
   "source": []
  }
 ],
 "metadata": {
  "kernelspec": {
   "display_name": "Python 3 (ipykernel)",
   "language": "python",
   "name": "python3"
  },
  "language_info": {
   "codemirror_mode": {
    "name": "ipython",
    "version": 3
   },
   "file_extension": ".py",
   "mimetype": "text/x-python",
   "name": "python",
   "nbconvert_exporter": "python",
   "pygments_lexer": "ipython3",
   "version": "3.11.7"
  }
 },
 "nbformat": 4,
 "nbformat_minor": 5
}
