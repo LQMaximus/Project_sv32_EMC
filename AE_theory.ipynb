{
 "cells": [
  {
   "cell_type": "markdown",
   "metadata": {},
   "source": [
    "# Almost Exact simulation of the 3/2 model"
   ]
  },
  {
   "cell_type": "markdown",
   "metadata": {},
   "source": [
    "##  1. Assumption"
   ]
  },
  {
   "cell_type": "markdown",
   "metadata": {},
   "source": [
    "According to Baldeaux(2013), The dynamics of the stock price under the 3/2 model under the risk-neutral measure are given by\n",
    "\n",
    "$$\n",
    " \\frac{dS_t}{S_t} = rdt + \\sqrt{V_t}\\rho dW_t^1 + \\sqrt{V_t}\\sqrt{1-\\rho^2}dW_t^2 \\tag{1}\n",
    "$$\n",
    "\n",
    "$$\n",
    " \\frac{dV_t}{V_t} = \\kappa (\\theta - V_t)dt + \\epsilon \\sqrt{V_t}dW_t^1\n",
    "$$\n",
    "\n",
    "which is equivalent to\n",
    "\n",
    "$$\n",
    " dV_t = \\kappa V_t (\\theta - V_t)dt + \\epsilon V_t^{3/2}dW_t^1 \\tag{2}\n",
    "$$\n",
    "\n",
    "where $W_t^1$ and $W_t^2$ are independent Brownian motions. Regarding the parameters, $r$ represents the constant interest rate, $\\rho$ the instantaneous correlation between the return on the stock and the variance process and $\\epsilon$ governs the volatility of volatility.The speed of mean reversion is given by $\\kappa V_t$ and $\\theta$ denotes the long-run mean of the variance process."
   ]
  },
  {
   "cell_type": "markdown",
   "metadata": {},
   "source": [
    "## 2.  Mathematical basis"
   ]
  },
  {
   "cell_type": "markdown",
   "metadata": {},
   "source": [
    "Defining $X_t = \\frac{1}{V_t}$, we obtain\n",
    "\n",
    "$$\n",
    "dX_t = (\\kappa + \\epsilon^2 - \\kappa\\theta X_t)dt - \\epsilon \\sqrt{X_t}dW_t^1 \\tag{3}\n",
    "$$"
   ]
  },
  {
   "cell_type": "markdown",
   "metadata": {},
   "source": [
    "Hence, using the process $X_t$, we obtain the following dynamics for the stock price, where $u > t$\n",
    "\n",
    "$$\n",
    "S_u = S_t \\exp\\lbrace r(u-t) - 1/2 \\int_t^u(X_s)^{-1}ds + \\rho \\int_t^u({\\sqrt{X_s})^{-1}dW_s^1}\\rbrace \\exp \\lbrace \\sqrt{1-\\rho^2} \\int_t^u(\\sqrt{X_s})^{-1} dW_s^2\\rbrace \\tag{4}\n",
    "$$\n"
   ]
  },
  {
   "cell_type": "markdown",
   "metadata": {},
   "source": [
    "From Baldeaux(2013), study $\\log(X_t)$\n",
    "\n",
    "$\n",
    "\\int_t^u({\\sqrt{X_s})^{-1}dW_s^1} = \\frac{1}{\\epsilon} (log(\\frac{X_t}{X_u}) + (k + \\frac{\\epsilon^2}{2})\\int_{t}^{u}\\frac{ds}{X_s}-k\\theta(u-t)) \\tag{5}\n",
    "$"
   ]
  },
  {
   "cell_type": "markdown",
   "metadata": {},
   "source": [
    "Therefore, the only thing we need to know is the distribution of $X_t$ and $\\int_{t}^{u}\\frac{ds}{X_s}$ conditional on $X_t$"
   ]
  },
  {
   "cell_type": "markdown",
   "metadata": {},
   "source": [
    "## 3. Numerical method "
   ]
  },
  {
   "cell_type": "markdown",
   "metadata": {},
   "source": [
    "Using Broadie-Kaya algorithm, we specify the simulation as 3 steps"
   ]
  },
  {
   "cell_type": "markdown",
   "metadata": {},
   "source": [
    "### Step 1) Simulate $X_u|X_t$ using the noncentral $\\chi^2$ distribution"
   ]
  },
  {
   "cell_type": "markdown",
   "metadata": {},
   "source": [
    "$X_u$ is distributed as a noncentral $ \\chi^2 $ distribution\n",
    "\n",
    "$$\n",
    "\\frac{X_u{\\rm exp}\\lbrace \\kappa \\theta (u-t) \\rbrace}{c(u-t)} \\sim \\chi^2(\\delta, \\alpha) \\tag{6}\n",
    "$$\n",
    "\n",
    "where\n",
    "$$\n",
    "\\delta = \\frac{4(\\kappa + \\epsilon^2)}{\\epsilon^2}, \\quad \\alpha = \\frac{X_t}{c(u-t)}, \\quad c(t) = \\frac{\\epsilon^2({\\rm exp}\\lbrace \\kappa\\theta u \\rbrace - 1)}{4\\kappa\\theta}\n",
    "$$"
   ]
  },
  {
   "cell_type": "markdown",
   "metadata": {},
   "source": [
    "### Step 2) $\\int_t^u \\frac{ds}{X_s}$ Given $X_u, X_t$"
   ]
  },
  {
   "cell_type": "markdown",
   "metadata": {},
   "source": [
    "We first derive the characteristic function of $\\int_u^t \\frac{ds}{X_s}$, which is provided in Baldeaux(2013)\n",
    "\n",
    "$$\n",
    "E\\left({\\rm exp}\\left\\lbrace -a^* \\int_0^t \\frac{ds}{X_s} \\ \\bigg| \\ X_t \\right\\rbrace \\right) = \\frac{I_{\\sqrt{\\nu^2+8a/\\epsilon^2}}\\left(-\\frac{j\\sqrt{X_tX_u}}{{\\rm sinh}\\left(j\\Delta\\right)}\\right)}{I_{\\nu}\\left(-\\frac{j\\sqrt{X_tX_u}}{{\\rm sinh}\\left(j\\Delta\\right)}\\right)}\\tag{7}\n",
    "$$\n",
    "\n",
    "where $j=-\\frac{2\\kappa\\theta}{\\epsilon^2}$, $\\Delta=\\frac{u\\epsilon^2}{4}-\\frac{t\\epsilon^2}{4}$, $v=\\frac{n}{2}-1$.\n"
   ]
  },
  {
   "cell_type": "markdown",
   "metadata": {},
   "source": [
    "Then we use the characteristic function to generate moment $M1$, $M2$. For simplicity, we define $\\mu = M1$, $\\sigma = \\sqrt{log(\\frac{M2}{M1^2})}$, and assume that $\\int_t^u \\frac{ds}{X_s}$ follows the lognorm distribution $\\mathscr{L}(\\mu, \\sigma)$, then we can simulate $\\int_t^u \\frac{ds}{X_s}$. (which is different from Baldeaux(2013))"
   ]
  },
  {
   "cell_type": "markdown",
   "metadata": {},
   "source": [
    "### Step 3) Simulate $V_T$ with distribution  $\\mathscr{L}(\\mu, \\sigma)$, and price the option"
   ]
  },
  {
   "cell_type": "markdown",
   "metadata": {},
   "source": [
    "$$\n",
    "log(S_u) \\sim N(log(S_t)+r(\\mu-t)-\\frac{1}{2}\\int_t^u \\frac{ds}{X_s}+\\rho\\int_t^u({\\sqrt{X_s})^{-1}dW_s^1},  \\sigma^2(t,n))\\tag{8}\n",
    "$$\n",
    "where \n",
    "$$\n",
    "\\sigma^2(t, \\mu) = (1-\\rho^2)\\int_t^u \\frac{ds}{X_s}\n",
    "$$"
   ]
  },
  {
   "cell_type": "markdown",
   "metadata": {},
   "source": [
    "The option price is $C_{BS}(K,S_u, \\frac{\\sigma(t, \\mu)}{\\sqrt{u-t}})$"
   ]
  },
  {
   "cell_type": "code",
   "execution_count": 1,
   "metadata": {
    "scrolled": true
   },
   "outputs": [],
   "source": [
    "%load_ext autoreload\n",
    "%autoreload 2"
   ]
  },
  {
   "cell_type": "code",
   "execution_count": 2,
   "metadata": {},
   "outputs": [],
   "source": [
    "import numpy as np\n",
    "import pandas as pd \n",
    "import pyfeng.sv32_mc as svae"
   ]
  },
  {
   "cell_type": "markdown",
   "metadata": {},
   "source": [
    "First, we assign all the parameters given, and run the AEMC method."
   ]
  },
  {
   "cell_type": "code",
   "execution_count": 3,
   "metadata": {},
   "outputs": [],
   "source": [
    "S0=100\n",
    "Ks = np.array([95,100,105])\n",
    "theta = 0.218\n",
    "rho = -0.99\n",
    "sigma = np.sqrt(0.06)\n",
    "r = 0\n",
    "T = 0.5\n",
    "kappas = np.array([22.84, 18.32, 19.76, 20.48])\n",
    "vovs = np.array([8.56, 8.56, 3.2, 3.2])"
   ]
  },
  {
   "cell_type": "code",
   "execution_count": 4,
   "metadata": {},
   "outputs": [],
   "source": [
    "table_for_AEMC = pd.DataFrame(index = [0.95,1,1.05], columns = [ 'Case I','Case II', 'Case III', 'Case IV'])\n",
    "table_for_AEMC_std = pd.DataFrame(index = [0.95,1,1.05], columns = ['Case II', 'Case III', 'Case IV', 'Case V'])\n",
    "table_for_EMC = pd.DataFrame(np.array([[10.364,10.055,11.657,11.724],[7.386,7.042,8.926,8.999],[4.938,4.586,6.636,6.710]]),\n",
    "                             index = [0.95,1,1.05], columns = [ 'Case I','Case II', 'Case III', 'Case IV'])"
   ]
  },
  {
   "cell_type": "code",
   "execution_count": 9,
   "metadata": {},
   "outputs": [],
   "source": [
    "for i in range(len(kappas)):\n",
    "    aemc = svae.Sv32McAe2(intr=r, texp=T, sigma=sigma, rho=rho, theta=theta, mr=kappas[i], vov=vovs[i], path_num = 10000)\n",
    "    output1 = aemc.get_price(strike=Ks,spot=S0, texp=T, cp=1)\n",
    "    table_for_AEMC.iloc[:,i] = output1\n",
    "    #table_for_AEMC_std.iloc[:,i] = output1[1]"
   ]
  },
  {
   "cell_type": "markdown",
   "metadata": {},
   "source": [
    "Now, we check the prices from AEMC, comparing to EMC"
   ]
  },
  {
   "cell_type": "code",
   "execution_count": 10,
   "metadata": {},
   "outputs": [
    {
     "data": {
      "text/html": [
       "<div>\n",
       "<style scoped>\n",
       "    .dataframe tbody tr th:only-of-type {\n",
       "        vertical-align: middle;\n",
       "    }\n",
       "\n",
       "    .dataframe tbody tr th {\n",
       "        vertical-align: top;\n",
       "    }\n",
       "\n",
       "    .dataframe thead th {\n",
       "        text-align: right;\n",
       "    }\n",
       "</style>\n",
       "<table border=\"1\" class=\"dataframe\">\n",
       "  <thead>\n",
       "    <tr style=\"text-align: right;\">\n",
       "      <th></th>\n",
       "      <th>Case I</th>\n",
       "      <th>Case II</th>\n",
       "      <th>Case III</th>\n",
       "      <th>Case IV</th>\n",
       "    </tr>\n",
       "  </thead>\n",
       "  <tbody>\n",
       "    <tr>\n",
       "      <th>0.95</th>\n",
       "      <td>10.985411</td>\n",
       "      <td>10.227496</td>\n",
       "      <td>12.920729</td>\n",
       "      <td>13.094861</td>\n",
       "    </tr>\n",
       "    <tr>\n",
       "      <th>1.00</th>\n",
       "      <td>8.593889</td>\n",
       "      <td>7.759372</td>\n",
       "      <td>10.541614</td>\n",
       "      <td>10.713934</td>\n",
       "    </tr>\n",
       "    <tr>\n",
       "      <th>1.05</th>\n",
       "      <td>6.676182</td>\n",
       "      <td>5.819809</td>\n",
       "      <td>8.544887</td>\n",
       "      <td>8.705364</td>\n",
       "    </tr>\n",
       "  </tbody>\n",
       "</table>\n",
       "</div>"
      ],
      "text/plain": [
       "         Case I    Case II   Case III    Case IV\n",
       "0.95  10.985411  10.227496  12.920729  13.094861\n",
       "1.00   8.593889   7.759372  10.541614  10.713934\n",
       "1.05   6.676182   5.819809   8.544887   8.705364"
      ]
     },
     "execution_count": 10,
     "metadata": {},
     "output_type": "execute_result"
    }
   ],
   "source": [
    "table_for_AEMC"
   ]
  },
  {
   "cell_type": "code",
   "execution_count": 11,
   "metadata": {
    "scrolled": true
   },
   "outputs": [
    {
     "data": {
      "text/html": [
       "<div>\n",
       "<style scoped>\n",
       "    .dataframe tbody tr th:only-of-type {\n",
       "        vertical-align: middle;\n",
       "    }\n",
       "\n",
       "    .dataframe tbody tr th {\n",
       "        vertical-align: top;\n",
       "    }\n",
       "\n",
       "    .dataframe thead th {\n",
       "        text-align: right;\n",
       "    }\n",
       "</style>\n",
       "<table border=\"1\" class=\"dataframe\">\n",
       "  <thead>\n",
       "    <tr style=\"text-align: right;\">\n",
       "      <th></th>\n",
       "      <th>Case I</th>\n",
       "      <th>Case II</th>\n",
       "      <th>Case III</th>\n",
       "      <th>Case IV</th>\n",
       "    </tr>\n",
       "  </thead>\n",
       "  <tbody>\n",
       "    <tr>\n",
       "      <th>0.95</th>\n",
       "      <td>10.364</td>\n",
       "      <td>10.055</td>\n",
       "      <td>11.657</td>\n",
       "      <td>11.724</td>\n",
       "    </tr>\n",
       "    <tr>\n",
       "      <th>1.00</th>\n",
       "      <td>7.386</td>\n",
       "      <td>7.042</td>\n",
       "      <td>8.926</td>\n",
       "      <td>8.999</td>\n",
       "    </tr>\n",
       "    <tr>\n",
       "      <th>1.05</th>\n",
       "      <td>4.938</td>\n",
       "      <td>4.586</td>\n",
       "      <td>6.636</td>\n",
       "      <td>6.710</td>\n",
       "    </tr>\n",
       "  </tbody>\n",
       "</table>\n",
       "</div>"
      ],
      "text/plain": [
       "      Case I  Case II  Case III  Case IV\n",
       "0.95  10.364   10.055    11.657   11.724\n",
       "1.00   7.386    7.042     8.926    8.999\n",
       "1.05   4.938    4.586     6.636    6.710"
      ]
     },
     "execution_count": 11,
     "metadata": {},
     "output_type": "execute_result"
    }
   ],
   "source": [
    "table_for_EMC"
   ]
  },
  {
   "cell_type": "code",
   "execution_count": null,
   "metadata": {},
   "outputs": [],
   "source": []
  }
 ],
 "metadata": {
  "kernelspec": {
   "display_name": "Python 3",
   "language": "python",
   "name": "python3"
  },
  "language_info": {
   "codemirror_mode": {
    "name": "ipython",
    "version": 3
   },
   "file_extension": ".py",
   "mimetype": "text/x-python",
   "name": "python",
   "nbconvert_exporter": "python",
   "pygments_lexer": "ipython3",
   "version": "3.6.6"
  }
 },
 "nbformat": 4,
 "nbformat_minor": 5
}
