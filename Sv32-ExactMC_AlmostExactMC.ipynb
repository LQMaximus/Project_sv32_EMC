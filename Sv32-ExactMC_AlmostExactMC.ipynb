{
 "cells": [
  {
   "cell_type": "markdown",
   "id": "cbde70ff",
   "metadata": {},
   "source": [
    "### Title:\n",
    "__Exact simulation and Almost exact simulation of the 3/2 model__\n",
    "\n",
    "### Authors:\n",
    "* Jan Baldeaux\n",
    "* Choi J, Kwok YK\n",
    "* Medvedev, A., Scaillet, O.\n",
    "\n",
    "### Abstract:\n",
    "* Baldeaux J (2012) Exact simulation of the 3/2 model. Int J Theor Appl Finan 15:1250032. https://doi.org/10.1142/S021902491250032X\n",
    "\n",
    "This paper discusses the exact simulation of the stock price process underlying the 3/2 model. Using a result derived by Craddock and Lennox using Lie Symmetry Analysis, we adapt the Broadie-Kaya algorithm for the simulation of affine processes to the 3/2 model. We also discuss variance reduction techniques and find that conditional Monte Carlo techniques combined with quasi-Monte Carlo point sets result in significant variance reductions.\n",
    "\n",
    "* Choi J, Kwok YK (2024) Simulation schemes for the Heston model with Poisson conditioning. European Journal of Operational Research 314(1):363–376. https://doi.org/10.1016/j.ejor.2023.10.048\n",
    "\n",
    "Exact simulation schemes under the Heston stochastic volatility model (e.g., Broadie–Kaya and Glasserman–Kim) suffer from computationally expensive modified Bessel function evaluations. We propose a new exact simulation scheme without the modified Bessel function, based on the observation that the conditional integrated variance can be simplified when conditioned by the Poisson variate used for simulating the terminal variance. Our approach also enhances the low-bias and time discretization schemes, which are suitable for pricing derivatives with frequent monitoring. Extensive numerical tests reveal the good performance of the new simulation schemes in terms of accuracy, efficiency, and reliability when compared with existing methods.\n",
    "\n",
    "* Medvedev, A., & Scaillet, O. (2007). Approximation and calibration of short-term implied volatilities under jump-diffusion stochastic volatility. The Review of Financial Studies, 20(2), 427-459.https://doi.org/10.1093/rfs/hhl013\n",
    "\n",
    "We derive an asymptotic expansion formula for option implied volatility under a two factor jump-diffusion stochastic volatility model when time-to-maturity is small. We further propose a simple calibration procedure of an arbitrary parametric model to short-term near-the-money implied volatilities. An important advantage of our approximation is that it is free of the unobserved spot volatility. Therefore, the model can be calibrated on option data pooled across different calendar dates to extract information from the dynamics of the implied volatility smile. An example of calibration to a sample of S&P 500 option prices is provided. \n",
    "\n",
    "\n",
    "### References\n",
    "* Baldeaux J (2012) Exact simulation of the 3/2 model. Int J Theor Appl Finan 15:1250032.\n",
    "* Kouarfate IR, Kouritzin MA, MacKay A (2021) Explicit Solution Simulation Method for the 3/2 Model. In: Hernández‐Hernández D, Leonardi F, Mena RH, Pardo Millán JC (eds) Advances in Probability and Mathematical Statistics. Springer International Publishing, Cham, pp 123–145\n",
    "* M. Jeanblanc, M. Yor and M. Chesney, Mathematical Methods for Financial Markets (Springer Finance, Springer, 2009).\n",
    "* Choi J, Kwok YK (2024) Simulation schemes for the Heston model with Poisson conditioning. European Journal of Operational Research 314(1):363–376.\n",
    "* Medvedev, A., & Scaillet, O. (2007). Approximation and calibration of short-term implied volatilities under jump-diffusion stochastic volatility. The Review of Financial Studies, 20(2), 427-459."
   ]
  },
  {
   "cell_type": "markdown",
   "id": "df30df8b",
   "metadata": {},
   "source": [
    "###  1. Assumption\n",
    "\n",
    "According to Baldeaux(2013), The dynamics of the stock price under the 3/2 model under the risk-neutral measure are given by\n",
    "\n",
    "$$\n",
    " \\frac{dS_t}{S_t} = rdt + \\sqrt{V_t}\\rho dW_t^1 + \\sqrt{V_t}\\sqrt{1-\\rho^2}dW_t^2 \\tag{1}\n",
    "$$\n",
    "\n",
    "$$\n",
    " \\frac{dV_t}{V_t} = \\kappa (\\theta - V_t)dt + \\epsilon \\sqrt{V_t}dW_t^1\n",
    "$$\n",
    "\n",
    "which is equivalent to\n",
    "\n",
    "$$\n",
    " dV_t = \\kappa V_t (\\theta - V_t)dt + \\epsilon V_t^{3/2}dW_t^1 \\tag{2}\n",
    "$$\n",
    "\n",
    "where $W_t^1$ and $W_t^2$ are independent Brownian motions. Regarding the parameters, $r$ represents the constant interest rate, $\\rho$ the instantaneous correlation between the return on the stock and the variance process and $\\epsilon$ governs the volatility of volatility.The speed of mean reversion is given by $\\kappa V_t$ and $\\theta$ denotes the long-run mean of the variance process."
   ]
  },
  {
   "cell_type": "markdown",
   "id": "f6b75302",
   "metadata": {},
   "source": [
    "### 2.  Mathematical basis\n",
    "\n",
    "Defining $X_t = \\frac{1}{V_t}$, we obtain\n",
    "\n",
    "$$\n",
    "dX_t = (\\kappa + \\epsilon^2 - \\kappa\\theta X_t)dt - \\epsilon \\sqrt{X_t}dW_t^1 \\tag{3}\n",
    "$$\n",
    "Hence, using the process $X_t$, we obtain the following dynamics for the stock price, where $u > t$\n",
    "\n",
    "$$\n",
    "S_u = S_t \\exp\\lbrace r(u-t) - 1/2 \\int_t^u(X_s)^{-1}ds + \\rho \\int_t^u({\\sqrt{X_s})^{-1}dW_s^1}\\rbrace \\exp \\lbrace \\sqrt{1-\\rho^2} \\int_t^u(\\sqrt{X_s})^{-1} dW_s^2\\rbrace \\tag{4}\n",
    "$$\n",
    "From Baldeaux(2013), study $\\log(X_t)$\n",
    "\n",
    "$$\n",
    "\\int_t^u({\\sqrt{X_s})^{-1}dW_s^1} = \\frac{1}{\\epsilon} (log(\\frac{X_t}{X_u}) + (k + \\frac{\\epsilon^2}{2})\\int_{t}^{u}\\frac{ds}{X_s}-k\\theta(u-t)) \\tag{5}\n",
    "$$\n",
    "\n",
    "Therefore, the only thing we need to know is the distribution of $X_t$ and $\\int_{t}^{u}\\frac{ds}{X_s}$ conditional on $X_t$"
   ]
  },
  {
   "cell_type": "markdown",
   "id": "727c1a0a",
   "metadata": {},
   "source": [
    "### 3. Numerical method \n",
    "Using Broadie-Kaya algorithm, we specify the simulation as 3 steps\n",
    "\n",
    "##### Step 1) Simulate $X_u|X_t$ using the noncentral $\\chi^2$ distribution\n",
    "$X_u$ is distributed as a noncentral $ \\chi^2 $ distribution\n",
    "\n",
    "$$\n",
    "\\frac{X_u{\\rm exp}\\lbrace \\kappa \\theta (u-t) \\rbrace}{c(u-t)} \\sim \\chi^2(\\delta, \\alpha) \\tag{6}\n",
    "$$\n",
    "\n",
    "where\n",
    "$$\n",
    "\\delta = \\frac{4(\\kappa + \\epsilon^2)}{\\epsilon^2}, \\quad \\alpha = \\frac{X_t}{c(u-t)}, \\quad c(t) = \\frac{\\epsilon^2({\\rm exp}\\lbrace \\kappa\\theta u \\rbrace - 1)}{4\\kappa\\theta}\n",
    "$$\n",
    "\n",
    "##### Step 2) $\\int_t^u \\frac{ds}{X_s}$ Given $X_u, X_t$\n",
    "We first derive the characteristic function of $\\int_u^t \\frac{ds}{X_s}$, which is provided in Baldeaux(2013)\n",
    "\n",
    "$$\n",
    "E\\left({\\rm exp}\\left\\lbrace -a^* \\int_0^t \\frac{ds}{X_s} \\ \\bigg| \\ X_t \\right\\rbrace \\right) = \\frac{I_{\\sqrt{\\nu^2+8a/\\epsilon^2}}\\left(-\\frac{j\\sqrt{X_tX_u}}{{\\rm sinh}\\left(j\\Delta\\right)}\\right)}{I_{\\nu}\\left(-\\frac{j\\sqrt{X_tX_u}}{{\\rm sinh}\\left(j\\Delta\\right)}\\right)}\\tag{7}\n",
    "$$\n",
    "\n",
    "where $j=-\\frac{2\\kappa\\theta}{\\epsilon^2}$, $\\Delta=\\frac{u\\epsilon^2}{4}-\\frac{t\\epsilon^2}{4}$, $v=\\frac{n}{2}-1$.\n",
    "\n",
    "##### Step 3) Exact method: Simulate $V_T$ with CDF by Laplace transform\n",
    "Use Laplace transform to get the CDF of $\\int_t^u \\frac{ds}{X_s}$, then get the price."
   ]
  },
  {
   "cell_type": "markdown",
   "id": "ca5eaac0",
   "metadata": {},
   "source": [
    "##### Step 3) Almost exact method: Simulate $V_T$ with assumed distribution\n",
    "Then we use the characteristic function to generate moment $M1$, $M2$. For simplicity, we assume that $\\int_t^u \\frac{ds}{X_s}$ follows the Inverse-Gaussian distribution / Gamma distribution / Log-normal distribution, then we can simulate $\\int_t^u \\frac{ds}{X_s}$."
   ]
  },
  {
   "cell_type": "markdown",
   "id": "80c80151",
   "metadata": {},
   "source": [
    "##### Finally get the option price\n",
    "$$\n",
    "log(S_u) \\sim N(log(S_t)+r(u-t)-\\frac{1}{2}\\int_t^u \\frac{ds}{X_s}+\\rho\\int_t^u({\\sqrt{X_s})^{-1}dW_s^1},  \\sigma^2(t,u))\\tag{8}\n",
    "$$\n",
    "where \n",
    "$$\n",
    "\\sigma^2(t, u) = (1-\\rho^2)\\int_t^u \\frac{ds}{X_s}\n",
    "$$\n",
    "The option price is $C_{BS}(K,S_u, \\sigma(t, u))$"
   ]
  },
  {
   "cell_type": "code",
   "execution_count": 62,
   "id": "8f1da2bd",
   "metadata": {},
   "outputs": [
    {
     "name": "stdout",
     "output_type": "stream",
     "text": [
      "The autoreload extension is already loaded. To reload it, use:\n",
      "  %reload_ext autoreload\n"
     ]
    }
   ],
   "source": [
    "%load_ext autoreload\n",
    "%autoreload 2"
   ]
  },
  {
   "cell_type": "code",
   "execution_count": 63,
   "id": "0ba15643",
   "metadata": {},
   "outputs": [],
   "source": [
    "import numpy as np\n",
    "import time\n",
    "import scipy.stats as spst\n",
    "import scipy.special as spsp\n",
    "import copy \n",
    "#import mp math as mp\n",
    "\n",
    "import sys\n",
    "sys.path.insert(sys.path.index('')+1, 'C:/Users/27261/Desktop/3_Courses in PHBS/3_09_AppliedStochasticProcess/Project_sv32_EMC')\n",
    "import pyfeng as pf\n",
    "import pyfeng.ex as pfex\n",
    "np.set_printoptions(precision=4)"
   ]
  },
  {
   "cell_type": "markdown",
   "id": "d68f2d76-51c6-424f-a35b-91faf168cf8c",
   "metadata": {},
   "source": [
    "Run only one below"
   ]
  },
  {
   "cell_type": "markdown",
   "id": "a6640138",
   "metadata": {},
   "source": [
    "## Case I: Eq. (4.2) in Baldeaux (2012)"
   ]
  },
  {
   "cell_type": "code",
   "execution_count": 34,
   "id": "5e2d5ce3",
   "metadata": {},
   "outputs": [],
   "source": [
    "mr, theta, vov, rho, sigma, intr = 2.0, 1.5, 0.2, -0.5, 1.0, 0.05\n",
    "strike, spot, texp = 1, 1, 1\n",
    "p_exact = 0.443059"
   ]
  },
  {
   "cell_type": "markdown",
   "id": "6801a627-e9d7-43e5-80c3-610dc8ac2cce",
   "metadata": {},
   "source": [
    "## Case II: Set 2 in Kouarfate et al. (2021)"
   ]
  },
  {
   "cell_type": "code",
   "execution_count": 35,
   "id": "a4ee80c7-2195-4048-95da-cd0427f9487b",
   "metadata": {},
   "outputs": [
    {
     "data": {
      "text/plain": [
       "array([43.7918, 41.4578, 39.2219])"
      ]
     },
     "execution_count": 35,
     "metadata": {},
     "output_type": "execute_result"
    }
   ],
   "source": [
    "sigma, mr, theta, vov, rho = 0.06, 22.84, 0.218, 8.56, -0.99\n",
    "intr = 0\n",
    "\n",
    "strike, spot, texp = np.array([95, 100, 105]), 100, 0.2\n",
    "p_exact = np.array([10.364, 7.386, 4.938])\n",
    "iv_exact = pf.Bsm(1).impvol(p_exact, strike, spot, texp)\n",
    "iv_exact * 100"
   ]
  },
  {
   "cell_type": "markdown",
   "id": "3502cc23-2506-4cfa-9808-604659edcec6",
   "metadata": {},
   "source": [
    "## Case III:in Kouarfate et al. (2021)"
   ]
  },
  {
   "cell_type": "code",
   "execution_count": 36,
   "id": "42c039f6-4645-44e1-a8d2-d61491a99af3",
   "metadata": {},
   "outputs": [
    {
     "data": {
      "text/plain": [
       "array([32.8172, 31.9686, 31.1591])"
      ]
     },
     "execution_count": 36,
     "metadata": {},
     "output_type": "execute_result"
    }
   ],
   "source": [
    "sigma, mr, theta, vov, rho = 0.06, 20.48, 0.218, 3.20, -0.99\n",
    "intr = 0\n",
    "\n",
    "strike, spot, texp = np.array([95, 100, 105]), 100, 0.5\n",
    "p_exact = np.array([11.724, 8.999, 6.710])\n",
    "iv_exact = pf.Bsm(1).impvol(p_exact, strike, spot, texp)\n",
    "iv_exact * 100"
   ]
  },
  {
   "cell_type": "markdown",
   "id": "9358f4dc-7f4e-4f0c-aef7-019b60d80858",
   "metadata": {},
   "source": [
    "## Pricing with Time Discreteization using Euler/Milstein scheme, Exact Stepping, Almost Exact Stepping"
   ]
  },
  {
   "cell_type": "code",
   "execution_count": 127,
   "id": "c8d990ad",
   "metadata": {},
   "outputs": [],
   "source": [
    "m = pfex.Sv32McTimeStep(sigma, vov, rho, mr, theta, intr)\n",
    "m.set_num_params(n_path=1.6e5, dt=1/500, rn_seed=123456)\n",
    "m.scheme = 1  # Euler/Milstein scheme, here dt should be small enough (dt=1/500)\n",
    "\n",
    "m.correct_fwd = False"
   ]
  },
  {
   "cell_type": "code",
   "execution_count": 128,
   "id": "5af53332",
   "metadata": {},
   "outputs": [
    {
     "name": "stdout",
     "output_type": "stream",
     "text": [
      "[-0.0548 -0.051  -0.0484]\n",
      "CPU times: total: 1.39 s\n",
      "Wall time: 1.39 s\n"
     ]
    }
   ],
   "source": [
    "%%time\n",
    "bias = m.price(strike, spot, texp) - p_exact\n",
    "print(bias)"
   ]
  },
  {
   "cell_type": "code",
   "execution_count": 239,
   "id": "d409f2b1",
   "metadata": {},
   "outputs": [],
   "source": [
    "m.set_num_params(n_path=1.6e5, dt=1/50, rn_seed=123456)\n",
    "m.scheme = 2 # Exact Stepping with 1 / NCX2, here dt can be larger (dt=1/50)"
   ]
  },
  {
   "cell_type": "code",
   "execution_count": 252,
   "id": "aa2f5a46",
   "metadata": {},
   "outputs": [
    {
     "name": "stdout",
     "output_type": "stream",
     "text": [
      "[-0.0092 -0.0044  0.0014]\n",
      "CPU times: total: 250 ms\n",
      "Wall time: 246 ms\n"
     ]
    }
   ],
   "source": [
    "%%time\n",
    "bias = m.price(strike, spot, texp) - p_exact\n",
    "print(bias)"
   ]
  },
  {
   "cell_type": "code",
   "execution_count": 135,
   "id": "c67f3d39",
   "metadata": {},
   "outputs": [],
   "source": [
    "m.set_num_params(n_path=1.6e5, dt=1/50, rn_seed=123456)\n",
    "m.scheme = 3 # Almost Exact Stepping with Poison-Gamma distribution, here dt can be even larger (dt=1/20)"
   ]
  },
  {
   "cell_type": "code",
   "execution_count": 136,
   "id": "b3efe5af",
   "metadata": {},
   "outputs": [
    {
     "name": "stdout",
     "output_type": "stream",
     "text": [
      "[-0.0707 -0.0594 -0.0473]\n",
      "CPU times: total: 391 ms\n",
      "Wall time: 378 ms\n"
     ]
    }
   ],
   "source": [
    "%%time\n",
    "bias = m.price(strike, spot, texp) - p_exact\n",
    "print(bias)"
   ]
  },
  {
   "cell_type": "markdown",
   "id": "4eba7c64-de45-4f61-ad5d-eeabccbf65c3",
   "metadata": {},
   "source": [
    "## Pricing with Exact Simulation"
   ]
  },
  {
   "cell_type": "code",
   "execution_count": 208,
   "id": "bc9aa841",
   "metadata": {},
   "outputs": [],
   "source": [
    "m1 = pfex.Sv32McBaldeaux2012Exact(sigma, vov, rho, mr, theta, intr)\n",
    "m1.set_num_params(n_path=10000, rn_seed=123456, dt=None)\n",
    "m1.correct_fwd = False"
   ]
  },
  {
   "cell_type": "code",
   "execution_count": 211,
   "id": "6284803b",
   "metadata": {},
   "outputs": [
    {
     "name": "stdout",
     "output_type": "stream",
     "text": [
      "[-0.0789 -0.0802 -0.0699]\n",
      "CPU times: total: 1.22 s\n",
      "Wall time: 1.25 s\n"
     ]
    }
   ],
   "source": [
    "%%time\n",
    "bias = m1.price(strike, spot, texp) - p_exact\n",
    "print(bias) # Sometimes the deviation can touch 0.26\n",
    "# sometimes it will warn that RuntimeWarning: some failed to converge after 50 iterations warnings.warn(msg, RuntimeWarning)"
   ]
  },
  {
   "cell_type": "markdown",
   "id": "101f9292-dbd9-45a5-b891-81a2eba449de",
   "metadata": {},
   "source": [
    "## Pricing with IG approximation (Almost Exact Simulation)"
   ]
  },
  {
   "cell_type": "code",
   "execution_count": 212,
   "id": "bdb7da42",
   "metadata": {},
   "outputs": [],
   "source": [
    "m2 = pfex.Sv32McChoiKwok2023Ig(sigma, vov, rho, mr, theta, intr)\n",
    "m2.set_num_params(n_path=100000, rn_seed=123456, dt=None)\n",
    "m2.correct_fwd = False"
   ]
  },
  {
   "cell_type": "code",
   "execution_count": 234,
   "id": "3bfd1f63",
   "metadata": {},
   "outputs": [
    {
     "name": "stdout",
     "output_type": "stream",
     "text": [
      "[0.071  0.0779 0.0812]\n",
      "CPU times: total: 250 ms\n",
      "Wall time: 261 ms\n"
     ]
    }
   ],
   "source": [
    "%%time\n",
    "bias = m2.price(strike, spot, texp) - p_exact\n",
    "print(bias) # Sometimes the deviation can touch 0.13"
   ]
  },
  {
   "cell_type": "markdown",
   "id": "3c0936be",
   "metadata": {},
   "source": [
    "# Pricing with FFT method"
   ]
  },
  {
   "cell_type": "code",
   "execution_count": 235,
   "id": "8e7dd906",
   "metadata": {},
   "outputs": [],
   "source": [
    "m3 = pf.sv_fft.Sv32Fft(sigma, vov, rho, mr, theta, intr)\n",
    "m3.correct_fwd = False"
   ]
  },
  {
   "cell_type": "code",
   "execution_count": 238,
   "id": "adee5ae4",
   "metadata": {},
   "outputs": [
    {
     "name": "stdout",
     "output_type": "stream",
     "text": [
      "[-0.0005 -0.0012 -0.0009]\n",
      "CPU times: total: 46.9 ms\n",
      "Wall time: 43.7 ms\n"
     ]
    }
   ],
   "source": [
    "%%time\n",
    "bias = m3.price(strike, spot, texp) - p_exact\n",
    "print(bias)"
   ]
  }
 ],
 "metadata": {
  "kernelspec": {
   "display_name": "Python 3 (ipykernel)",
   "language": "python",
   "name": "python3"
  },
  "language_info": {
   "codemirror_mode": {
    "name": "ipython",
    "version": 3
   },
   "file_extension": ".py",
   "mimetype": "text/x-python",
   "name": "python",
   "nbconvert_exporter": "python",
   "pygments_lexer": "ipython3",
   "version": "3.11.5"
  }
 },
 "nbformat": 4,
 "nbformat_minor": 5
}
