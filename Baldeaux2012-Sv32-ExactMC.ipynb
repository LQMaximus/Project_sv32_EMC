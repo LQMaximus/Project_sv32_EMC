{
 "cells": [
  {
   "cell_type": "markdown",
   "id": "cbde70ff",
   "metadata": {},
   "source": [
    "### Title:\n",
    "__Exact simulation of the 3/2 model__\n",
    "\n",
    "### Authors:\n",
    "* Jan Baldeaux\n",
    "\n",
    "### Abstract:\n",
    "This paper discusses the exact simulation of the stock price process underlying the 3/2 model. Using a result derived by Craddock and Lennox using Lie Symmetry Analysis, we adapt the Broadie-Kaya algorithm for the simulation of affine processes to the 3/2 model. We also discuss variance reduction techniques and find that conditional Monte Carlo techniques combined with quasi-Monte Carlo point sets result in significant variance reductions.\n",
    "\n",
    "### Link:\n",
    "* [Journal](https://www.worldscientific.com/doi/abs/10.1142/S021902491250032X)\n",
    "* [arXiv](http://arxiv.org/abs/1105.3297)\n",
    "\n",
    "### References\n",
    "* Baldeaux J (2012) Exact simulation of the 3/2 model. Int J Theor Appl Finan 15:1250032. https://doi.org/10.1142/S021902491250032X\n",
    "* Kouarfate IR, Kouritzin MA, MacKay A (2021) Explicit Solution Simulation Method for the 3/2 Model. In: Hernández‐Hernández D, Leonardi F, Mena RH, Pardo Millán JC (eds) Advances in Probability and Mathematical Statistics. Springer International Publishing, Cham, pp 123–145"
   ]
  },
  {
   "cell_type": "code",
   "execution_count": 227,
   "id": "8f1da2bd",
   "metadata": {},
   "outputs": [
    {
     "name": "stdout",
     "output_type": "stream",
     "text": [
      "The autoreload extension is already loaded. To reload it, use:\n",
      "  %reload_ext autoreload\n"
     ]
    }
   ],
   "source": [
    "%load_ext autoreload\n",
    "%autoreload 2"
   ]
  },
  {
   "cell_type": "code",
   "execution_count": 373,
   "id": "0ba15643",
   "metadata": {},
   "outputs": [],
   "source": [
    "import numpy as np\n",
    "import time\n",
    "import scipy.stats as spst\n",
    "import scipy.special as spsp\n",
    "import copy \n",
    "#import mp math as mp\n",
    "\n",
    "import sys\n",
    "sys.path.insert(sys.path.index('')+1, 'C:/Users/27261/Desktop/3_Courses in PHBS/3_09_AppliedStochasticProcess/Project_sv32_EMC')\n",
    "import pyfeng as pf\n",
    "import pyfeng.ex as pfex\n",
    "np.set_printoptions(precision=4)"
   ]
  },
  {
   "cell_type": "markdown",
   "id": "d68f2d76-51c6-424f-a35b-91faf168cf8c",
   "metadata": {},
   "source": [
    "Run only one below"
   ]
  },
  {
   "cell_type": "markdown",
   "id": "a6640138",
   "metadata": {},
   "source": [
    "## Case I: Eq. (4.2) in Baldeaux (2012)"
   ]
  },
  {
   "cell_type": "code",
   "execution_count": 374,
   "id": "5e2d5ce3",
   "metadata": {},
   "outputs": [],
   "source": [
    "mr, theta, vov, rho, sigma, intr = 2.0, 1.5, 0.2, -0.5, 1.0, 0.05\n",
    "strike, spot, texp = 1, 1, 1\n",
    "p_exact = 0.443059"
   ]
  },
  {
   "cell_type": "markdown",
   "id": "6801a627-e9d7-43e5-80c3-610dc8ac2cce",
   "metadata": {},
   "source": [
    "## Case II: Set 2 in Kouarfate et al. (2021)"
   ]
  },
  {
   "cell_type": "code",
   "execution_count": 403,
   "id": "a4ee80c7-2195-4048-95da-cd0427f9487b",
   "metadata": {},
   "outputs": [
    {
     "data": {
      "text/plain": [
       "array([43.7918, 41.4578, 39.2219])"
      ]
     },
     "execution_count": 403,
     "metadata": {},
     "output_type": "execute_result"
    }
   ],
   "source": [
    "sigma, mr, theta, vov, rho = 0.06, 22.84, 0.218, 8.56, -0.99\n",
    "intr = 0\n",
    "\n",
    "strike, spot, texp = np.array([95, 100, 105]), 100, 0.2\n",
    "p_exact = np.array([10.364, 7.386, 4.938])\n",
    "iv_exact = pf.Bsm(1).impvol(p_exact, strike, spot, texp)\n",
    "iv_exact * 100"
   ]
  },
  {
   "cell_type": "markdown",
   "id": "3502cc23-2506-4cfa-9808-604659edcec6",
   "metadata": {},
   "source": [
    "## Case III:in Kouarfate et al. (2021)"
   ]
  },
  {
   "cell_type": "code",
   "execution_count": 392,
   "id": "42c039f6-4645-44e1-a8d2-d61491a99af3",
   "metadata": {},
   "outputs": [
    {
     "data": {
      "text/plain": [
       "array([32.8172, 31.9686, 31.1591])"
      ]
     },
     "execution_count": 392,
     "metadata": {},
     "output_type": "execute_result"
    }
   ],
   "source": [
    "sigma, mr, theta, vov, rho = 0.06, 20.48, 0.218, 3.20, -0.99\n",
    "intr = 0\n",
    "\n",
    "strike, spot, texp = np.array([95, 100, 105]), 100, 0.5\n",
    "p_exact = np.array([11.724, 8.999, 6.710])\n",
    "iv_exact = pf.Bsm(1).impvol(p_exact, strike, spot, texp)\n",
    "iv_exact * 100"
   ]
  },
  {
   "cell_type": "markdown",
   "id": "9358f4dc-7f4e-4f0c-aef7-019b60d80858",
   "metadata": {},
   "source": [
    "## Pricing with Time Discreteization using Euler/Milstein scheme"
   ]
  },
  {
   "cell_type": "code",
   "execution_count": 404,
   "id": "c8d990ad",
   "metadata": {},
   "outputs": [],
   "source": [
    "m = pfex.Sv32McTimeStep(sigma, vov, rho, mr, theta, intr)\n",
    "m.set_num_params(n_path=1.6e5, dt=1/50, rn_seed=123456)\n",
    "m.scheme = 2  # Exact Stepping with 1 / NCX2\n",
    "m.correct_fwd = False"
   ]
  },
  {
   "cell_type": "code",
   "execution_count": 405,
   "id": "5af53332",
   "metadata": {},
   "outputs": [
    {
     "name": "stdout",
     "output_type": "stream",
     "text": [
      "[-2.6442 -2.83   -2.6804]\n",
      "CPU times: total: 125 ms\n",
      "Wall time: 124 ms\n"
     ]
    }
   ],
   "source": [
    "%%time\n",
    "bias = m.price(strike, spot, texp) - p_exact\n",
    "print(bias)"
   ]
  },
  {
   "cell_type": "markdown",
   "id": "4eba7c64-de45-4f61-ad5d-eeabccbf65c3",
   "metadata": {},
   "source": [
    "## Pricing with Exact Simulation"
   ]
  },
  {
   "cell_type": "code",
   "execution_count": 406,
   "id": "bc9aa841",
   "metadata": {},
   "outputs": [],
   "source": [
    "m1 = pfex.Sv32McBaldeaux2012Exact(sigma, vov, rho, mr, theta, intr)\n",
    "m1.set_num_params(n_path=10000, rn_seed=123456, dt=None)\n",
    "m1.correct_fwd = False"
   ]
  },
  {
   "cell_type": "code",
   "execution_count": 407,
   "id": "6284803b",
   "metadata": {},
   "outputs": [
    {
     "name": "stdout",
     "output_type": "stream",
     "text": [
      "[-2.7017 -2.8781 -2.7213]\n",
      "CPU times: total: 1.28 s\n",
      "Wall time: 1.28 s\n"
     ]
    }
   ],
   "source": [
    "%%time\n",
    "bias = m1.price(strike, spot, texp) - p_exact\n",
    "print(bias)  #-0.051878003020602914  -0.051878003020602914"
   ]
  },
  {
   "cell_type": "markdown",
   "id": "101f9292-dbd9-45a5-b891-81a2eba449de",
   "metadata": {},
   "source": [
    "## Pricing with IG approximation (Almost Exact Simulation)"
   ]
  },
  {
   "cell_type": "code",
   "execution_count": 408,
   "id": "bdb7da42",
   "metadata": {},
   "outputs": [],
   "source": [
    "m2 = pfex.Sv32McChoiKwok2023Ig(sigma, vov, rho, mr, theta, intr)\n",
    "m2.set_num_params(n_path=100000, rn_seed=123456, dt=None)\n",
    "m2.correct_fwd = False"
   ]
  },
  {
   "cell_type": "code",
   "execution_count": 409,
   "id": "3bfd1f63",
   "metadata": {},
   "outputs": [
    {
     "name": "stdout",
     "output_type": "stream",
     "text": [
      "[-2.6202 -2.809  -2.6671]\n",
      "CPU times: total: 297 ms\n",
      "Wall time: 297 ms\n"
     ]
    }
   ],
   "source": [
    "%%time\n",
    "bias = m2.price(strike, spot, texp) - p_exact\n",
    "print(bias)"
   ]
  },
  {
   "cell_type": "markdown",
   "id": "3c0936be",
   "metadata": {},
   "source": [
    "# Pricing with FFT method"
   ]
  },
  {
   "cell_type": "code",
   "execution_count": 410,
   "id": "8e7dd906",
   "metadata": {},
   "outputs": [],
   "source": [
    "m3 = pf.sv_fft.Sv32Fft(sigma, vov, rho, mr, theta, intr)\n",
    "m3.correct_fwd = False"
   ]
  },
  {
   "cell_type": "code",
   "execution_count": 411,
   "id": "adee5ae4",
   "metadata": {},
   "outputs": [
    {
     "name": "stdout",
     "output_type": "stream",
     "text": [
      "[-2.6437 -2.8277 -2.6754]\n",
      "CPU times: total: 46.9 ms\n",
      "Wall time: 42.8 ms\n"
     ]
    }
   ],
   "source": [
    "%%time\n",
    "bias = m3.price(strike, spot, texp) - p_exact\n",
    "print(bias)"
   ]
  }
 ],
 "metadata": {
  "kernelspec": {
   "display_name": "Python 3 (ipykernel)",
   "language": "python",
   "name": "python3"
  },
  "language_info": {
   "codemirror_mode": {
    "name": "ipython",
    "version": 3
   },
   "file_extension": ".py",
   "mimetype": "text/x-python",
   "name": "python",
   "nbconvert_exporter": "python",
   "pygments_lexer": "ipython3",
   "version": "3.11.5"
  }
 },
 "nbformat": 4,
 "nbformat_minor": 5
}
