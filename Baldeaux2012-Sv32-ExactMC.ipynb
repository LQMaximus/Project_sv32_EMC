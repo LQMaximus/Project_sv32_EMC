{
 "cells": [
  {
   "cell_type": "markdown",
   "id": "cbde70ff",
   "metadata": {},
   "source": [
    "### Title:\n",
    "__Exact simulation of the 3/2 model__\n",
    "\n",
    "### Authors:\n",
    "* Jan Baldeaux\n",
    "\n",
    "### Abstract:\n",
    "This paper discusses the exact simulation of the stock price process underlying the 3/2 model. Using a result derived by Craddock and Lennox using Lie Symmetry Analysis, we adapt the Broadie-Kaya algorithm for the simulation of affine processes to the 3/2 model. We also discuss variance reduction techniques and find that conditional Monte Carlo techniques combined with quasi-Monte Carlo point sets result in significant variance reductions.\n",
    "\n",
    "### Link:\n",
    "* [Journal](https://www.worldscientific.com/doi/abs/10.1142/S021902491250032X)\n",
    "* [arXiv](http://arxiv.org/abs/1105.3297)\n",
    "\n",
    "### References\n",
    "* Baldeaux J (2012) Exact simulation of the 3/2 model. Int J Theor Appl Finan 15:1250032. https://doi.org/10.1142/S021902491250032X\n",
    "* Kouarfate IR, Kouritzin MA, MacKay A (2021) Explicit Solution Simulation Method for the 3/2 Model. In: Hernández‐Hernández D, Leonardi F, Mena RH, Pardo Millán JC (eds) Advances in Probability and Mathematical Statistics. Springer International Publishing, Cham, pp 123–145"
   ]
  },
  {
   "cell_type": "code",
   "execution_count": 1,
   "id": "8f1da2bd",
   "metadata": {},
   "outputs": [],
   "source": [
    "%load_ext autoreload\n",
    "%autoreload 2"
   ]
  },
  {
   "cell_type": "code",
   "execution_count": 2,
   "id": "0ba15643",
   "metadata": {},
   "outputs": [],
   "source": [
    "import numpy as np\n",
    "import time\n",
    "import scipy.stats as spst\n",
    "import scipy.special as spsp\n",
    "import copy \n",
    "#import mp math as mp\n",
    "\n",
    "import sys\n",
    "sys.path.insert(sys.path.index('')+1, 'D:/Github/pyfeng')\n",
    "import pyfeng as pf\n",
    "import pyfeng.ex as pfex\n",
    "np.set_printoptions(precision=4)"
   ]
  },
  {
   "cell_type": "markdown",
   "id": "d68f2d76-51c6-424f-a35b-91faf168cf8c",
   "metadata": {},
   "source": [
    "Run only one below"
   ]
  },
  {
   "cell_type": "markdown",
   "id": "a6640138",
   "metadata": {},
   "source": [
    "## Case I: Eq. (4.2) in Baldeaux (2012)"
   ]
  },
  {
   "cell_type": "code",
   "execution_count": 3,
   "id": "5e2d5ce3",
   "metadata": {},
   "outputs": [],
   "source": [
    "mr, theta, vov, rho, sigma, intr = 2.0, 1.5, 0.2, -0.5, 1.0, 0.05\n",
    "strike, spot, texp = 1, 1, 1\n",
    "p_exact = 0.443059"
   ]
  },
  {
   "cell_type": "markdown",
   "id": "6801a627-e9d7-43e5-80c3-610dc8ac2cce",
   "metadata": {},
   "source": [
    "## Set 2 in Kouarfate et al. (2021)"
   ]
  },
  {
   "cell_type": "code",
   "execution_count": 4,
   "id": "a4ee80c7-2195-4048-95da-cd0427f9487b",
   "metadata": {},
   "outputs": [
    {
     "data": {
      "text/plain": [
       "array([43.7918, 41.4578, 39.2219])"
      ]
     },
     "execution_count": 4,
     "metadata": {},
     "output_type": "execute_result"
    }
   ],
   "source": [
    "sigma, mr, theta, vov, rho = 0.06, 22.84, 0.218, 8.56, -0.99\n",
    "intr = 0\n",
    "\n",
    "strike, spot, texp = np.array([95, 100, 105]), 100, 0.2\n",
    "p_exact = np.array([10.364, 7.386, 4.938])\n",
    "iv_exact = pf.Bsm(1).impvol(p_exact, strike, spot, texp)\n",
    "iv_exact * 100"
   ]
  },
  {
   "cell_type": "markdown",
   "id": "3502cc23-2506-4cfa-9808-604659edcec6",
   "metadata": {},
   "source": [
    "## Set 5 in Kouarfate et al. (2021)"
   ]
  },
  {
   "cell_type": "code",
   "execution_count": 5,
   "id": "42c039f6-4645-44e1-a8d2-d61491a99af3",
   "metadata": {},
   "outputs": [
    {
     "data": {
      "text/plain": [
       "array([32.8172, 31.9686, 31.1591])"
      ]
     },
     "execution_count": 5,
     "metadata": {},
     "output_type": "execute_result"
    }
   ],
   "source": [
    "sigma, mr, theta, vov, rho = 0.06, 20.48, 0.218, 3.20, -0.99\n",
    "intr = 0\n",
    "\n",
    "strike, spot, texp = np.array([95, 100, 105]), 100, 0.5\n",
    "p_exact = np.array([11.724, 8.999, 6.710])\n",
    "iv_exact = pf.Bsm(1).impvol(p_exact, strike, spot, texp)\n",
    "iv_exact * 100"
   ]
  },
  {
   "cell_type": "markdown",
   "id": "9358f4dc-7f4e-4f0c-aef7-019b60d80858",
   "metadata": {},
   "source": [
    "## Pricing with Time Discreteization "
   ]
  },
  {
   "cell_type": "code",
   "execution_count": 6,
   "id": "c8d990ad",
   "metadata": {},
   "outputs": [],
   "source": [
    "m = pfex.Sv32McTimeStep(sigma, vov, rho, mr, theta, intr)\n",
    "m.set_num_params(n_path=1.6e5, dt=1/50, rn_seed=123456)\n",
    "m.scheme = 2  # Exact Stepping with 1 / NCX2\n",
    "m.correct_fwd = False"
   ]
  },
  {
   "cell_type": "code",
   "execution_count": 7,
   "id": "5af53332",
   "metadata": {},
   "outputs": [
    {
     "name": "stdout",
     "output_type": "stream",
     "text": [
      "[-0.0202 -0.0126 -0.0054]\n",
      "CPU times: total: 234 ms\n",
      "Wall time: 239 ms\n"
     ]
    }
   ],
   "source": [
    "%%time\n",
    "bias = m.price(strike, spot, texp) - p_exact\n",
    "print(bias)"
   ]
  },
  {
   "cell_type": "markdown",
   "id": "4eba7c64-de45-4f61-ad5d-eeabccbf65c3",
   "metadata": {},
   "source": [
    "## Pricing with Exact Simulation"
   ]
  },
  {
   "cell_type": "code",
   "execution_count": 8,
   "id": "bc9aa841",
   "metadata": {},
   "outputs": [],
   "source": [
    "m1 = pfex.Sv32McBaldeaux2012Exact(sigma, vov, rho, mr, theta, intr)\n",
    "m1.set_num_params(n_path=10000, rn_seed=123456, dt=None)\n",
    "m1.correct_fwd = False"
   ]
  },
  {
   "cell_type": "code",
   "execution_count": 9,
   "id": "6284803b",
   "metadata": {},
   "outputs": [
    {
     "name": "stdout",
     "output_type": "stream",
     "text": [
      "[-0.0227 -0.0145 -0.0086]\n",
      "CPU times: total: 219 ms\n",
      "Wall time: 233 ms\n"
     ]
    }
   ],
   "source": [
    "%%time\n",
    "bias = m.price(strike, spot, texp) - p_exact\n",
    "print(bias)  #-0.051878003020602914  -0.051878003020602914"
   ]
  },
  {
   "cell_type": "markdown",
   "id": "101f9292-dbd9-45a5-b891-81a2eba449de",
   "metadata": {},
   "source": [
    "## Pricing with IG approximation (Almost Exact Simulation)"
   ]
  },
  {
   "cell_type": "code",
   "execution_count": 12,
   "id": "bdb7da42",
   "metadata": {},
   "outputs": [],
   "source": [
    "m = pfex.Sv32McChoiKwok2023Ig(sigma, vov, rho, mr, theta, intr)\n",
    "m.set_num_params(n_path=10000, rn_seed=123456, dt=1/10)\n",
    "m.correct_fwd = False"
   ]
  },
  {
   "cell_type": "code",
   "execution_count": 13,
   "id": "3bfd1f63",
   "metadata": {},
   "outputs": [
    {
     "name": "stdout",
     "output_type": "stream",
     "text": [
      "4.999999999999999 [54.8507 58.2898 76.6823 ... 64.8276 64.5719 64.184 ]\n"
     ]
    },
    {
     "ename": "AttributeError",
     "evalue": "module 'numpy' has no attribute 'float'.\n`np.float` was a deprecated alias for the builtin `float`. To avoid this error in existing code, use `float` by itself. Doing this will not modify any behavior and is safe. If you specifically wanted the numpy scalar type, use `np.float64` here.\nThe aliases was originally deprecated in NumPy 1.20; for more details and guidance see the original release note at:\n    https://numpy.org/devdocs/release/1.20.0-notes.html#deprecations",
     "output_type": "error",
     "traceback": [
      "\u001b[1;31m---------------------------------------------------------------------------\u001b[0m",
      "\u001b[1;31mAttributeError\u001b[0m                            Traceback (most recent call last)",
      "File \u001b[1;32m<timed exec>:1\u001b[0m\n",
      "File \u001b[1;32mc:\\Users\\27261\\Desktop\\3_Courses in PHBS\\3_09_AppliedStochasticProcess\\Project_sv32_EMC\\pyfeng\\sv_abc.py:228\u001b[0m, in \u001b[0;36mCondMcBsmABC.price\u001b[1;34m(self, strike, spot, texp, cp)\u001b[0m\n\u001b[0;32m    225\u001b[0m scalar_output \u001b[38;5;241m=\u001b[39m np\u001b[38;5;241m.\u001b[39misscalar(kk)\n\u001b[0;32m    226\u001b[0m kk \u001b[38;5;241m=\u001b[39m np\u001b[38;5;241m.\u001b[39matleast_1d(kk)\n\u001b[1;32m--> 228\u001b[0m fwd_cond, sigma_cond \u001b[38;5;241m=\u001b[39m \u001b[38;5;28;43mself\u001b[39;49m\u001b[38;5;241;43m.\u001b[39;49m\u001b[43mcond_spot_sigma\u001b[49m\u001b[43m(\u001b[49m\u001b[43mtexp\u001b[49m\u001b[43m,\u001b[49m\u001b[43m \u001b[49m\u001b[38;5;28;43mself\u001b[39;49m\u001b[38;5;241;43m.\u001b[39;49m\u001b[43msigma\u001b[49m\u001b[43m)\u001b[49m\n\u001b[0;32m    230\u001b[0m fwd_mean \u001b[38;5;241m=\u001b[39m fwd_cond\u001b[38;5;241m.\u001b[39mmean()\n\u001b[0;32m    231\u001b[0m \u001b[38;5;28mself\u001b[39m\u001b[38;5;241m.\u001b[39mresult[\u001b[38;5;124m'\u001b[39m\u001b[38;5;124mspot error\u001b[39m\u001b[38;5;124m'\u001b[39m] \u001b[38;5;241m=\u001b[39m fwd_mean \u001b[38;5;241m-\u001b[39m \u001b[38;5;241m1\u001b[39m\n",
      "File \u001b[1;32mc:\\Users\\27261\\Desktop\\3_Courses in PHBS\\3_09_AppliedStochasticProcess\\Project_sv32_EMC\\pyfeng\\sv32_mc2.py:137\u001b[0m, in \u001b[0;36mSv32McABC.cond_spot_sigma\u001b[1;34m(self, texp, var_0)\u001b[0m\n\u001b[0;32m    134\u001b[0m avgvar \u001b[38;5;241m=\u001b[39m np\u001b[38;5;241m.\u001b[39mzeros(\u001b[38;5;28mself\u001b[39m\u001b[38;5;241m.\u001b[39mn_path)\n\u001b[0;32m    136\u001b[0m \u001b[38;5;28;01mfor\u001b[39;00m i \u001b[38;5;129;01min\u001b[39;00m \u001b[38;5;28mrange\u001b[39m(n_dt):\n\u001b[1;32m--> 137\u001b[0m     var_t, avgvar_inc \u001b[38;5;241m=\u001b[39m \u001b[38;5;28;43mself\u001b[39;49m\u001b[38;5;241;43m.\u001b[39;49m\u001b[43mcond_states_step\u001b[49m\u001b[43m(\u001b[49m\u001b[43mdt\u001b[49m\u001b[43m[\u001b[49m\u001b[43mi\u001b[49m\u001b[43m]\u001b[49m\u001b[43m,\u001b[49m\u001b[43m \u001b[49m\u001b[43mvar_t\u001b[49m\u001b[43m)\u001b[49m\n\u001b[0;32m    138\u001b[0m     avgvar \u001b[38;5;241m+\u001b[39m\u001b[38;5;241m=\u001b[39m avgvar_inc \u001b[38;5;241m*\u001b[39m dt[i]\n\u001b[0;32m    140\u001b[0m avgvar \u001b[38;5;241m/\u001b[39m\u001b[38;5;241m=\u001b[39m texp\n",
      "File \u001b[1;32mc:\\Users\\27261\\Desktop\\3_Courses in PHBS\\3_09_AppliedStochasticProcess\\Project_sv32_EMC\\pyfeng\\sv32_mc2.py:422\u001b[0m, in \u001b[0;36mSv32McChoiKwok2023Ig.cond_states_step\u001b[1;34m(self, dt, var_0)\u001b[0m\n\u001b[0;32m    420\u001b[0m np\u001b[38;5;241m.\u001b[39mdivide(\u001b[38;5;241m1.0\u001b[39m, var_t, out\u001b[38;5;241m=\u001b[39mvar_t)\n\u001b[0;32m    421\u001b[0m m1, var \u001b[38;5;241m=\u001b[39m \u001b[38;5;28mself\u001b[39m\u001b[38;5;241m.\u001b[39mcond_avgvar_mv(dt, var_0, var_t, eta\u001b[38;5;241m=\u001b[39m\u001b[38;5;28;01mNone\u001b[39;00m)\n\u001b[1;32m--> 422\u001b[0m avgvar \u001b[38;5;241m=\u001b[39m \u001b[38;5;28;43mself\u001b[39;49m\u001b[38;5;241;43m.\u001b[39;49m\u001b[43mdraw_from_mv\u001b[49m\u001b[43m(\u001b[49m\u001b[43mm1\u001b[49m\u001b[43m,\u001b[49m\u001b[43m \u001b[49m\u001b[43mvar\u001b[49m\u001b[43m,\u001b[49m\u001b[43m \u001b[49m\u001b[38;5;28;43mself\u001b[39;49m\u001b[38;5;241;43m.\u001b[39;49m\u001b[43mdist\u001b[49m\u001b[43m)\u001b[49m\n\u001b[0;32m    424\u001b[0m \u001b[38;5;28;01mreturn\u001b[39;00m var_t, avgvar\n",
      "File \u001b[1;32mc:\\Users\\27261\\Desktop\\3_Courses in PHBS\\3_09_AppliedStochasticProcess\\Project_sv32_EMC\\pyfeng\\sv32_mc2.py:312\u001b[0m, in \u001b[0;36mSv32McChoiKwok2023Ig.draw_from_mv\u001b[1;34m(self, mean, var, dist)\u001b[0m\n\u001b[0;32m    301\u001b[0m \u001b[38;5;28;01mdef\u001b[39;00m \u001b[38;5;21mdraw_from_mv\u001b[39m(\u001b[38;5;28mself\u001b[39m, mean, var, dist):\n\u001b[0;32m    302\u001b[0m \u001b[38;5;250m    \u001b[39m\u001b[38;5;124;03m\"\"\"\u001b[39;00m\n\u001b[0;32m    303\u001b[0m \u001b[38;5;124;03m    Draw RNs from distributions with mean and variance matched\u001b[39;00m\n\u001b[0;32m    304\u001b[0m \u001b[38;5;124;03m    Args:\u001b[39;00m\n\u001b[1;32m   (...)\u001b[0m\n\u001b[0;32m    310\u001b[0m \u001b[38;5;124;03m        RNs with size of mean/variance\u001b[39;00m\n\u001b[0;32m    311\u001b[0m \u001b[38;5;124;03m    \"\"\"\u001b[39;00m\n\u001b[1;32m--> 312\u001b[0m     idx \u001b[38;5;241m=\u001b[39m (mean \u001b[38;5;241m>\u001b[39m np\u001b[38;5;241m.\u001b[39mfinfo(\u001b[43mnp\u001b[49m\u001b[38;5;241;43m.\u001b[39;49m\u001b[43mfloat\u001b[49m)\u001b[38;5;241m.\u001b[39meps)\n\u001b[0;32m    313\u001b[0m     avgvar \u001b[38;5;241m=\u001b[39m np\u001b[38;5;241m.\u001b[39mzeros_like(mean)\n\u001b[0;32m    314\u001b[0m     mean \u001b[38;5;241m=\u001b[39m mean[idx]\n",
      "File \u001b[1;32mc:\\ProgramData\\anaconda3\\Lib\\site-packages\\numpy\\__init__.py:324\u001b[0m, in \u001b[0;36m__getattr__\u001b[1;34m(attr)\u001b[0m\n\u001b[0;32m    319\u001b[0m     warnings\u001b[38;5;241m.\u001b[39mwarn(\n\u001b[0;32m    320\u001b[0m         \u001b[38;5;124mf\u001b[39m\u001b[38;5;124m\"\u001b[39m\u001b[38;5;124mIn the future `np.\u001b[39m\u001b[38;5;132;01m{\u001b[39;00mattr\u001b[38;5;132;01m}\u001b[39;00m\u001b[38;5;124m` will be defined as the \u001b[39m\u001b[38;5;124m\"\u001b[39m\n\u001b[0;32m    321\u001b[0m         \u001b[38;5;124m\"\u001b[39m\u001b[38;5;124mcorresponding NumPy scalar.\u001b[39m\u001b[38;5;124m\"\u001b[39m, \u001b[38;5;167;01mFutureWarning\u001b[39;00m, stacklevel\u001b[38;5;241m=\u001b[39m\u001b[38;5;241m2\u001b[39m)\n\u001b[0;32m    323\u001b[0m \u001b[38;5;28;01mif\u001b[39;00m attr \u001b[38;5;129;01min\u001b[39;00m __former_attrs__:\n\u001b[1;32m--> 324\u001b[0m     \u001b[38;5;28;01mraise\u001b[39;00m \u001b[38;5;167;01mAttributeError\u001b[39;00m(__former_attrs__[attr])\n\u001b[0;32m    326\u001b[0m \u001b[38;5;28;01mif\u001b[39;00m attr \u001b[38;5;241m==\u001b[39m \u001b[38;5;124m'\u001b[39m\u001b[38;5;124mtesting\u001b[39m\u001b[38;5;124m'\u001b[39m:\n\u001b[0;32m    327\u001b[0m     \u001b[38;5;28;01mimport\u001b[39;00m \u001b[38;5;21;01mnumpy\u001b[39;00m\u001b[38;5;21;01m.\u001b[39;00m\u001b[38;5;21;01mtesting\u001b[39;00m \u001b[38;5;28;01mas\u001b[39;00m \u001b[38;5;21;01mtesting\u001b[39;00m\n",
      "\u001b[1;31mAttributeError\u001b[0m: module 'numpy' has no attribute 'float'.\n`np.float` was a deprecated alias for the builtin `float`. To avoid this error in existing code, use `float` by itself. Doing this will not modify any behavior and is safe. If you specifically wanted the numpy scalar type, use `np.float64` here.\nThe aliases was originally deprecated in NumPy 1.20; for more details and guidance see the original release note at:\n    https://numpy.org/devdocs/release/1.20.0-notes.html#deprecations"
     ]
    }
   ],
   "source": [
    "%%time\n",
    "bias = m.price(strike, spot, texp) - p_exact\n",
    "print(bias)"
   ]
  },
  {
   "cell_type": "code",
   "execution_count": null,
   "id": "e354f7d4-f3e2-4597-b874-4db55d57fbad",
   "metadata": {},
   "outputs": [],
   "source": []
  }
 ],
 "metadata": {
  "kernelspec": {
   "display_name": "Python 3 (ipykernel)",
   "language": "python",
   "name": "python3"
  },
  "language_info": {
   "codemirror_mode": {
    "name": "ipython",
    "version": 3
   },
   "file_extension": ".py",
   "mimetype": "text/x-python",
   "name": "python",
   "nbconvert_exporter": "python",
   "pygments_lexer": "ipython3",
   "version": "3.11.5"
  }
 },
 "nbformat": 4,
 "nbformat_minor": 5
}
